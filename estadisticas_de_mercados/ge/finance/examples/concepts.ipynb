{
 "cells": [
  {
   "cell_type": "markdown",
   "source": [
    "# Overview\n",
    "\n",
    "The goal of the `concept` package is to standardize the names or identifiers for concepts that we may use to specify data in data structures such as numpy arrays or pandas dataframes. In this way we can share information more easily across different components of the application."
   ],
   "metadata": {
    "collapsed": false
   },
   "id": "6a6d70b00c679825"
  },
  {
   "cell_type": "code",
   "execution_count": 1,
   "id": "initial_id",
   "metadata": {
    "collapsed": true,
    "ExecuteTime": {
     "end_time": "2023-10-19T05:38:58.375079Z",
     "start_time": "2023-10-19T05:38:58.097803Z"
    }
   },
   "outputs": [
    {
     "name": "stdout",
     "output_type": "stream",
     "text": [
      "  ticker_symbol period_start  return_on_equity\n",
      "0           XYZ   2021-01-01               1.0\n",
      "1           XYZ   2022-01-01               2.0\n",
      "2           XYZ   2023-01-01               3.0\n"
     ]
    }
   ],
   "source": [
    "import ge.finance.concept as concept\n",
    "import numpy as np\n",
    "import pandas as pd\n",
    "\n",
    "# Create a data frame describing some properties of a given fictitious company.\n",
    "data = pd.DataFrame([\n",
    "    {\n",
    "        concept.TICKER_SYMBOL: 'XYZ',\n",
    "        concept.PERIOD_START: np.datetime64('2021-01-01'),\n",
    "        concept.RETURN_ON_EQUITY: 1.0,\n",
    "    },\n",
    "    {\n",
    "        concept.TICKER_SYMBOL: 'XYZ',\n",
    "        concept.PERIOD_START: np.datetime64('2022-01-01'),\n",
    "        concept.RETURN_ON_EQUITY: 2.0,\n",
    "    },\n",
    "    {\n",
    "        concept.TICKER_SYMBOL: 'XYZ',\n",
    "        concept.PERIOD_START: np.datetime64('2023-01-01'),\n",
    "        concept.RETURN_ON_EQUITY: 3.0,\n",
    "    },\n",
    "])\n",
    "\n",
    "print(data)"
   ]
  },
  {
   "cell_type": "code",
   "execution_count": 2,
   "outputs": [
    {
     "name": "stdout",
     "output_type": "stream",
     "text": [
      "[('2021-01-01', 1.) ('2022-01-01', 2.) ('2023-01-01', 3.)]\n"
     ]
    }
   ],
   "source": [
    "import numpy as np\n",
    "\n",
    "# Create a numpy array describing some properties of the same given fictitious company.\n",
    "Record = np.dtype([\n",
    "    (concept.PERIOD_START, 'datetime64[D]'),\n",
    "    (concept.RETURN_ON_EQUITY, np.float64)\n",
    "])\n",
    "x = np.array([\n",
    "    (np.datetime64('2021-01-01'), 1.0),\n",
    "    (np.datetime64('2022-01-01'), 2.0),\n",
    "    (np.datetime64('2023-01-01'), 3.0),\n",
    "], dtype=Record)\n",
    "\n",
    "print(x)"
   ],
   "metadata": {
    "collapsed": false,
    "ExecuteTime": {
     "end_time": "2023-10-19T05:38:58.386741Z",
     "start_time": "2023-10-19T05:38:58.380904Z"
    }
   },
   "id": "84829c65f3882a22"
  },
  {
   "cell_type": "code",
   "execution_count": 3,
   "outputs": [
    {
     "name": "stdout",
     "output_type": "stream",
     "text": [
      "  ticker_symbol period_start  return_on_equity\n",
      "0           XYZ   2021-01-01               1.0\n",
      "1           XYZ   2022-01-01               2.0\n",
      "2           XYZ   2023-01-01               3.0\n"
     ]
    }
   ],
   "source": [
    "# Convert array x into a dataframe.\n",
    "df = pd.DataFrame(x)\n",
    "# Add a ticker symbol column.\n",
    "df[concept.TICKER_SYMBOL] = ['XYZ'] * x.shape[0]\n",
    "# Reorder columns for display purposes.\n",
    "df = df[[concept.TICKER_SYMBOL, concept.PERIOD_START, concept.RETURN_ON_EQUITY]]\n",
    "\n",
    "print(df)"
   ],
   "metadata": {
    "collapsed": false,
    "ExecuteTime": {
     "end_time": "2023-10-19T05:38:58.411473Z",
     "start_time": "2023-10-19T05:38:58.388953Z"
    }
   },
   "id": "c097f1d449d1186a"
  },
  {
   "cell_type": "markdown",
   "source": [
    "By standardizing this way we can more easily define logic that performs computations in terms of common concepts."
   ],
   "metadata": {
    "collapsed": false
   },
   "id": "c97a7083589a0013"
  },
  {
   "cell_type": "code",
   "execution_count": 4,
   "outputs": [
    {
     "name": "stdout",
     "output_type": "stream",
     "text": [
      "  ticker_symbol period_start  net_income  stockholder_equity  return_on_equity\n",
      "0           XYZ   2021-01-01      2000.0              2000.0               1.0\n",
      "1           XYZ   2021-01-01      1000.0              2000.0               0.5\n"
     ]
    }
   ],
   "source": [
    "import ge.finance.metrics as metrics\n",
    "\n",
    "data = pd.DataFrame([\n",
    "    {\n",
    "        concept.TICKER_SYMBOL: 'XYZ',\n",
    "        concept.PERIOD_START: np.datetime64('2021-01-01'),\n",
    "        concept.NET_INCOME: 2000.0,\n",
    "        concept.STOCKHOLDER_EQUITY: 2000.0,\n",
    "    },\n",
    "    {\n",
    "        concept.TICKER_SYMBOL: 'XYZ',\n",
    "        concept.PERIOD_START: np.datetime64('2021-01-01'),\n",
    "        concept.NET_INCOME: 1000.0,\n",
    "        concept.STOCKHOLDER_EQUITY: 2000.0,\n",
    "    },\n",
    "])\n",
    "\n",
    "# Add a new column generated by computing RoE from the given data.\n",
    "data[concept.RETURN_ON_EQUITY] = metrics.return_on_equity(data)\n",
    "\n",
    "print(data)"
   ],
   "metadata": {
    "collapsed": false,
    "ExecuteTime": {
     "end_time": "2023-10-19T05:38:58.412132Z",
     "start_time": "2023-10-19T05:38:58.394775Z"
    }
   },
   "id": "5474cea820911ef4"
  }
 ],
 "metadata": {
  "kernelspec": {
   "display_name": "Python 3",
   "language": "python",
   "name": "python3"
  },
  "language_info": {
   "codemirror_mode": {
    "name": "ipython",
    "version": 2
   },
   "file_extension": ".py",
   "mimetype": "text/x-python",
   "name": "python",
   "nbconvert_exporter": "python",
   "pygments_lexer": "ipython2",
   "version": "2.7.6"
  }
 },
 "nbformat": 4,
 "nbformat_minor": 5
}
