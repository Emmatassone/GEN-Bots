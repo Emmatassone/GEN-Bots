{
 "cells": [
  {
   "cell_type": "markdown",
   "source": [
    "# Overview\n",
    "\n",
    "This notebook shows how to use custom defined vectorbt indicators. Custom indicators may be defined in the `ge.analysis.indicators` package."
   ],
   "metadata": {
    "collapsed": false
   },
   "id": "65bc9ea05ffd3e2f"
  },
  {
   "cell_type": "code",
   "execution_count": 7,
   "id": "initial_id",
   "metadata": {
    "collapsed": true,
    "ExecuteTime": {
     "end_time": "2023-10-04T03:23:45.994937Z",
     "start_time": "2023-10-04T03:23:45.979044Z"
    }
   },
   "outputs": [
    {
     "data": {
      "text/plain": "              p\n2020-01-01  1.0\n2020-01-02  2.0\n2020-01-03  3.0\n2020-01-04  4.0\n2020-01-05  5.0",
      "text/html": "<div>\n<style scoped>\n    .dataframe tbody tr th:only-of-type {\n        vertical-align: middle;\n    }\n\n    .dataframe tbody tr th {\n        vertical-align: top;\n    }\n\n    .dataframe thead th {\n        text-align: right;\n    }\n</style>\n<table border=\"1\" class=\"dataframe\">\n  <thead>\n    <tr style=\"text-align: right;\">\n      <th></th>\n      <th>p</th>\n    </tr>\n  </thead>\n  <tbody>\n    <tr>\n      <th>2020-01-01</th>\n      <td>1.0</td>\n    </tr>\n    <tr>\n      <th>2020-01-02</th>\n      <td>2.0</td>\n    </tr>\n    <tr>\n      <th>2020-01-03</th>\n      <td>3.0</td>\n    </tr>\n    <tr>\n      <th>2020-01-04</th>\n      <td>4.0</td>\n    </tr>\n    <tr>\n      <th>2020-01-05</th>\n      <td>5.0</td>\n    </tr>\n  </tbody>\n</table>\n</div>"
     },
     "execution_count": 7,
     "metadata": {},
     "output_type": "execute_result"
    }
   ],
   "source": [
    "import pandas as pd\n",
    "import datetime as dt\n",
    "\n",
    "# Define a time series.\n",
    "signal = pd.DataFrame({\n",
    "    'p': [1, 2, 3, 4, 5],\n",
    "}, index=pd.Index([\n",
    "    dt.datetime(2020, 1, 1),\n",
    "    dt.datetime(2020, 1, 2),\n",
    "    dt.datetime(2020, 1, 3),\n",
    "    dt.datetime(2020, 1, 4),\n",
    "    dt.datetime(2020, 1, 5),\n",
    "])).astype(float)\n",
    "\n",
    "signal"
   ]
  },
  {
   "cell_type": "code",
   "execution_count": 8,
   "outputs": [
    {
     "data": {
      "text/plain": "custom_window    3    4\n2020-01-01     1.0  1.0\n2020-01-02     1.5  1.5\n2020-01-03     2.0  2.0\n2020-01-04     3.0  2.5\n2020-01-05     4.0  3.5",
      "text/html": "<div>\n<style scoped>\n    .dataframe tbody tr th:only-of-type {\n        vertical-align: middle;\n    }\n\n    .dataframe tbody tr th {\n        vertical-align: top;\n    }\n\n    .dataframe thead th {\n        text-align: right;\n    }\n</style>\n<table border=\"1\" class=\"dataframe\">\n  <thead>\n    <tr style=\"text-align: right;\">\n      <th>custom_window</th>\n      <th>3</th>\n      <th>4</th>\n    </tr>\n  </thead>\n  <tbody>\n    <tr>\n      <th>2020-01-01</th>\n      <td>1.0</td>\n      <td>1.0</td>\n    </tr>\n    <tr>\n      <th>2020-01-02</th>\n      <td>1.5</td>\n      <td>1.5</td>\n    </tr>\n    <tr>\n      <th>2020-01-03</th>\n      <td>2.0</td>\n      <td>2.0</td>\n    </tr>\n    <tr>\n      <th>2020-01-04</th>\n      <td>3.0</td>\n      <td>2.5</td>\n    </tr>\n    <tr>\n      <th>2020-01-05</th>\n      <td>4.0</td>\n      <td>3.5</td>\n    </tr>\n  </tbody>\n</table>\n</div>"
     },
     "execution_count": 8,
     "metadata": {},
     "output_type": "execute_result"
    }
   ],
   "source": [
    "import ge.analysis.indicators as indicators\n",
    "\n",
    "# Run the custom defined MedianIndicator over the signal with two different values for the 'window'\n",
    "# parameter. This yields a DataFrame-like object.\n",
    "v = indicators.MedianIndicator.run(signal, [3, 4])\n",
    "\n",
    "v.median"
   ],
   "metadata": {
    "collapsed": false,
    "ExecuteTime": {
     "end_time": "2023-10-04T03:23:46.007987Z",
     "start_time": "2023-10-04T03:23:46.000779Z"
    }
   },
   "id": "e9259179ecf00efa"
  }
 ],
 "metadata": {
  "kernelspec": {
   "display_name": "Python 3",
   "language": "python",
   "name": "python3"
  },
  "language_info": {
   "codemirror_mode": {
    "name": "ipython",
    "version": 2
   },
   "file_extension": ".py",
   "mimetype": "text/x-python",
   "name": "python",
   "nbconvert_exporter": "python",
   "pygments_lexer": "ipython2",
   "version": "2.7.6"
  }
 },
 "nbformat": 4,
 "nbformat_minor": 5
}
