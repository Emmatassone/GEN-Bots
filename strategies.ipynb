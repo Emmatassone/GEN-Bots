{
 "cells": [
  {
   "cell_type": "code",
   "execution_count": 3,
   "id": "979c0685-8fb4-4bbf-9455-36049b57a06e",
   "metadata": {},
   "outputs": [],
   "source": [
    "# Imports \n",
    "from ppi_client.api.constants import ACCOUNTDATA_TYPE_ACCOUNT_NOTIFICATION, ACCOUNTDATA_TYPE_PUSH_NOTIFICATION, \\\n",
    "    ACCOUNTDATA_TYPE_ORDER_NOTIFICATION\n",
    "from ppi_client.models.account_movements import AccountMovements\n",
    "from ppi_client.models.bank_account_request import BankAccountRequest\n",
    "from ppi_client.models.foreign_bank_account_request import ForeignBankAccountRequest, ForeignBankAccountRequestDTO\n",
    "from ppi_client.models.cancel_bank_account_request import CancelBankAccountRequest\n",
    "from ppi_client.models.order import Order\n",
    "from ppi_client.ppi import PPI\n",
    "from ppi_client.models.order_budget import OrderBudget\n",
    "from ppi_client.models.order_confirm import OrderConfirm\n",
    "from ppi_client.models.disclaimer import Disclaimer\n",
    "from ppi_client.models.investing_profile import InvestingProfile\n",
    "from ppi_client.models.investing_profile_answer import InvestingProfileAnswer\n",
    "from ppi_client.models.instrument import Instrument\n",
    "from datetime import datetime, timedelta\n",
    "from ppi_client.models.estimate_bonds import EstimateBonds\n",
    "import asyncio\n",
    "import json\n",
    "import traceback\n",
    "import os\n",
    "import pandas as pd"
   ]
  },
  {
   "cell_type": "code",
   "execution_count": null,
   "id": "45aa3f00-96d2-4956-b3df-fd8da360b0a9",
   "metadata": {},
   "outputs": [],
   "source": [
    "#Change sandbox variable to False to connect to real account\n",
    "sandbox_public_key='enZ1dE5HcnlHOWRiQlpCWXEyQXg='\n",
    "sandbox_secret_key='Zjg2Zjc3NzItYTQ1Yy00ZWM3LTk3YzYtZjAwMzE0ODNlNTcy'\n",
    "\n",
    "ppi = PPI(sandbox=True)\n",
    "ppi.account.login_api(sandbox_public_key,sandbox_secret_key)"
   ]
  },
  {
   "cell_type": "markdown",
   "id": "f82387c5-91a9-4767-8934-bf3a7f92bb85",
   "metadata": {
    "tags": []
   },
   "source": [
    "## Estrategias con Letras"
   ]
  },
  {
   "cell_type": "markdown",
   "id": "2782b35b-e073-4ffe-816a-a24bb2bb985b",
   "metadata": {},
   "source": [
    "### Estrategia n°1: Caida del 3%"
   ]
  },
  {
   "cell_type": "markdown",
   "id": "f47f35b4-1871-47a0-aecf-c6e473e9ec6f",
   "metadata": {},
   "source": [
    "Descripción: La estrategia consiste en comprar letras ante una caida del 3% en su precio con respecto al precio del día anterior."
   ]
  },
  {
   "cell_type": "code",
   "execution_count": 84,
   "id": "63a237b1-9db1-4ae6-8f14-70606b52e8f7",
   "metadata": {},
   "outputs": [],
   "source": [
    "#Estrategia\n",
    "def buy_below_percentage_benchmark(price,yesterday_price):\n",
    "    if(price<=0.97*yesterday_price):\n",
    "        buy_price=price\n",
    "        return sell_price\n",
    "    else:\n",
    "        return False"
   ]
  },
  {
   "cell_type": "code",
   "execution_count": null,
   "id": "6e7e0e71-aeca-4749-91b2-940410c95ab9",
   "metadata": {
    "tags": []
   },
   "outputs": [],
   "source": [
    "market_data = ppi.marketdata.search(\"S31Y3\", \"Letras\", \"A-48HS\", datetime(2023, 3, 1), datetime.now())\n",
    "df_market_data=pd.DataFrame(market_data)\n",
    "\n",
    "df_market_data['yesterday_price']=df_market_data['price'].shift(1)"
   ]
  },
  {
   "cell_type": "code",
   "execution_count": 90,
   "id": "8860b5f9-e46e-4dc1-9d12-9b217121b0a9",
   "metadata": {},
   "outputs": [],
   "source": [
    "df_market_data['strategy1'] = df_market_data.apply(lambda x: buy_below_percentage_benchmark(x['price'], x['yesterday_price']), axis=1)"
   ]
  },
  {
   "cell_type": "code",
   "execution_count": null,
   "id": "753b17f0-b52f-4f1d-89a1-41305f6c9561",
   "metadata": {},
   "outputs": [],
   "source": [
    "df_market_data"
   ]
  }
 ],
 "metadata": {
  "kernelspec": {
   "display_name": "Python 3 (ipykernel)",
   "language": "python",
   "name": "python3"
  },
  "language_info": {
   "codemirror_mode": {
    "name": "ipython",
    "version": 3
   },
   "file_extension": ".py",
   "mimetype": "text/x-python",
   "name": "python",
   "nbconvert_exporter": "python",
   "pygments_lexer": "ipython3",
   "version": "3.9.12"
  }
 },
 "nbformat": 4,
 "nbformat_minor": 5
}
