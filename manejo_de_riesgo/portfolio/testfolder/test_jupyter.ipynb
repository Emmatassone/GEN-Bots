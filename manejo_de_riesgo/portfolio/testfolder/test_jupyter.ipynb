{
 "cells": [
  {
   "cell_type": "code",
   "execution_count": 2,
   "outputs": [
    {
     "name": "stdout",
     "output_type": "stream",
     "text": [
      "[*********************100%%**********************]  25 of 25 completed\n"
     ]
    }
   ],
   "source": [
    "import numpy as np\n",
    "import pandas as pd\n",
    "import yfinance as yf\n",
    "import warnings\n",
    "import riskfolio as rp\n",
    "warnings.filterwarnings(\"ignore\")\n",
    "pd.options.display.float_format = '{:.4%}'.format\n",
    "\n",
    "# Date range\n",
    "start = '2016-01-01'\n",
    "end = '2019-12-30'\n",
    "\n",
    "# Tickers of assets\n",
    "assets = ['JCI', 'TGT', 'CMCSA', 'CPB', 'MO', 'APA', 'MMC', 'JPM',\n",
    "          'ZION', 'PSA', 'BAX', 'BMY', 'LUV', 'PCAR', 'TXT', 'TMO',\n",
    "          'DE', 'MSFT', 'HPQ', 'SEE', 'VZ', 'CNP', 'NI', 'T', 'BA']\n",
    "assets.sort()\n",
    "\n",
    "# Downloading data\n",
    "data = yf.download(assets, start = start, end = end)\n",
    "data = data.loc[:,('Adj Close', slice(None))]\n",
    "data.columns = assets"
   ],
   "metadata": {
    "collapsed": false,
    "ExecuteTime": {
     "end_time": "2023-10-23T12:45:07.781232600Z",
     "start_time": "2023-10-23T12:45:05.256883600Z"
    }
   },
   "id": "ec0b84af3ebc3b61"
  },
  {
   "cell_type": "code",
   "execution_count": 3,
   "outputs": [
    {
     "data": {
      "text/plain": "                 APA       BA      BAX      BMY    CMCSA      CNP      CPB  \\\nDate                                                                         \n2016-01-05  -2.0256%  0.4057%  0.4036%  1.9692%  0.0180%  0.9305%  0.3678%   \n2016-01-06 -11.4864% -1.5879%  0.2411% -1.7557% -0.7727% -1.2473% -0.1736%   \n2016-01-07  -5.1388% -4.1922% -1.6573% -2.7699% -1.1047% -1.9769% -1.2207%   \n2016-01-08   0.2736% -2.2705% -1.6037% -2.5425%  0.1099% -0.2241%  0.5706%   \n2016-01-11  -4.3383%  0.1692% -1.6850% -1.0216%  0.0915% -1.1791%  0.5674%   \n\n                 DE      HPQ      JCI  ...       NI     PCAR      PSA  \\\nDate                                   ...                              \n2016-01-05  0.5783%  0.9482% -1.1953%  ...  1.5881%  0.0212%  2.8236%   \n2016-01-06 -1.1239% -3.5866% -0.9551%  ...  0.5547%  0.0212%  0.1592%   \n2016-01-07 -0.8855% -4.6059% -2.5394%  ... -2.2066% -3.0310% -1.0411%   \n2016-01-08 -1.6402% -1.7642% -0.1649%  ... -0.1539% -1.1366% -0.7307%   \n2016-01-11  0.5287%  0.6616%  0.0330%  ...  1.6436%  0.0000%  0.9869%   \n\n                SEE        T      TGT      TMO      TXT       VZ     ZION  \nDate                                                                       \n2016-01-05  0.9758%  0.6987%  1.7539% -0.1730%  0.2410%  1.3734% -1.0857%  \n2016-01-06 -1.5646%  0.3108% -1.0155% -0.7653% -3.0048% -0.9035% -2.9145%  \n2016-01-07 -3.1557% -1.6148% -0.2700% -2.2844% -2.0570% -0.5492% -3.0019%  \n2016-01-08 -0.1448%  0.0895% -3.3839% -0.1117% -1.1387% -0.9719% -1.1254%  \n2016-01-11 -0.1450%  1.2224%  1.4570%  0.5366% -0.4607%  0.5800% -1.9919%  \n\n[5 rows x 25 columns]",
      "text/html": "<div>\n<style scoped>\n    .dataframe tbody tr th:only-of-type {\n        vertical-align: middle;\n    }\n\n    .dataframe tbody tr th {\n        vertical-align: top;\n    }\n\n    .dataframe thead th {\n        text-align: right;\n    }\n</style>\n<table border=\"1\" class=\"dataframe\">\n  <thead>\n    <tr style=\"text-align: right;\">\n      <th></th>\n      <th>APA</th>\n      <th>BA</th>\n      <th>BAX</th>\n      <th>BMY</th>\n      <th>CMCSA</th>\n      <th>CNP</th>\n      <th>CPB</th>\n      <th>DE</th>\n      <th>HPQ</th>\n      <th>JCI</th>\n      <th>...</th>\n      <th>NI</th>\n      <th>PCAR</th>\n      <th>PSA</th>\n      <th>SEE</th>\n      <th>T</th>\n      <th>TGT</th>\n      <th>TMO</th>\n      <th>TXT</th>\n      <th>VZ</th>\n      <th>ZION</th>\n    </tr>\n    <tr>\n      <th>Date</th>\n      <th></th>\n      <th></th>\n      <th></th>\n      <th></th>\n      <th></th>\n      <th></th>\n      <th></th>\n      <th></th>\n      <th></th>\n      <th></th>\n      <th></th>\n      <th></th>\n      <th></th>\n      <th></th>\n      <th></th>\n      <th></th>\n      <th></th>\n      <th></th>\n      <th></th>\n      <th></th>\n      <th></th>\n    </tr>\n  </thead>\n  <tbody>\n    <tr>\n      <th>2016-01-05</th>\n      <td>-2.0256%</td>\n      <td>0.4057%</td>\n      <td>0.4036%</td>\n      <td>1.9692%</td>\n      <td>0.0180%</td>\n      <td>0.9305%</td>\n      <td>0.3678%</td>\n      <td>0.5783%</td>\n      <td>0.9482%</td>\n      <td>-1.1953%</td>\n      <td>...</td>\n      <td>1.5881%</td>\n      <td>0.0212%</td>\n      <td>2.8236%</td>\n      <td>0.9758%</td>\n      <td>0.6987%</td>\n      <td>1.7539%</td>\n      <td>-0.1730%</td>\n      <td>0.2410%</td>\n      <td>1.3734%</td>\n      <td>-1.0857%</td>\n    </tr>\n    <tr>\n      <th>2016-01-06</th>\n      <td>-11.4864%</td>\n      <td>-1.5879%</td>\n      <td>0.2411%</td>\n      <td>-1.7557%</td>\n      <td>-0.7727%</td>\n      <td>-1.2473%</td>\n      <td>-0.1736%</td>\n      <td>-1.1239%</td>\n      <td>-3.5866%</td>\n      <td>-0.9551%</td>\n      <td>...</td>\n      <td>0.5547%</td>\n      <td>0.0212%</td>\n      <td>0.1592%</td>\n      <td>-1.5646%</td>\n      <td>0.3108%</td>\n      <td>-1.0155%</td>\n      <td>-0.7653%</td>\n      <td>-3.0048%</td>\n      <td>-0.9035%</td>\n      <td>-2.9145%</td>\n    </tr>\n    <tr>\n      <th>2016-01-07</th>\n      <td>-5.1388%</td>\n      <td>-4.1922%</td>\n      <td>-1.6573%</td>\n      <td>-2.7699%</td>\n      <td>-1.1047%</td>\n      <td>-1.9769%</td>\n      <td>-1.2207%</td>\n      <td>-0.8855%</td>\n      <td>-4.6059%</td>\n      <td>-2.5394%</td>\n      <td>...</td>\n      <td>-2.2066%</td>\n      <td>-3.0310%</td>\n      <td>-1.0411%</td>\n      <td>-3.1557%</td>\n      <td>-1.6148%</td>\n      <td>-0.2700%</td>\n      <td>-2.2844%</td>\n      <td>-2.0570%</td>\n      <td>-0.5492%</td>\n      <td>-3.0019%</td>\n    </tr>\n    <tr>\n      <th>2016-01-08</th>\n      <td>0.2736%</td>\n      <td>-2.2705%</td>\n      <td>-1.6037%</td>\n      <td>-2.5425%</td>\n      <td>0.1099%</td>\n      <td>-0.2241%</td>\n      <td>0.5706%</td>\n      <td>-1.6402%</td>\n      <td>-1.7642%</td>\n      <td>-0.1649%</td>\n      <td>...</td>\n      <td>-0.1539%</td>\n      <td>-1.1366%</td>\n      <td>-0.7307%</td>\n      <td>-0.1448%</td>\n      <td>0.0895%</td>\n      <td>-3.3839%</td>\n      <td>-0.1117%</td>\n      <td>-1.1387%</td>\n      <td>-0.9719%</td>\n      <td>-1.1254%</td>\n    </tr>\n    <tr>\n      <th>2016-01-11</th>\n      <td>-4.3383%</td>\n      <td>0.1692%</td>\n      <td>-1.6850%</td>\n      <td>-1.0216%</td>\n      <td>0.0915%</td>\n      <td>-1.1791%</td>\n      <td>0.5674%</td>\n      <td>0.5287%</td>\n      <td>0.6616%</td>\n      <td>0.0330%</td>\n      <td>...</td>\n      <td>1.6436%</td>\n      <td>0.0000%</td>\n      <td>0.9869%</td>\n      <td>-0.1450%</td>\n      <td>1.2224%</td>\n      <td>1.4570%</td>\n      <td>0.5366%</td>\n      <td>-0.4607%</td>\n      <td>0.5800%</td>\n      <td>-1.9919%</td>\n    </tr>\n  </tbody>\n</table>\n<p>5 rows × 25 columns</p>\n</div>"
     },
     "metadata": {},
     "output_type": "display_data"
    }
   ],
   "source": [
    "# Calculating returns\n",
    "\n",
    "Y = data[assets].pct_change().dropna()\n",
    "\n",
    "display(Y.head())"
   ],
   "metadata": {
    "collapsed": false,
    "ExecuteTime": {
     "end_time": "2023-10-23T12:45:07.839360100Z",
     "start_time": "2023-10-23T12:45:07.769669700Z"
    }
   },
   "id": "92f2fa23f3976545"
  },
  {
   "cell_type": "code",
   "execution_count": 4,
   "outputs": [],
   "source": [
    "def calculate_portfolio_returns(daily_returns, weights):\n",
    "    weighted_returns = daily_returns * weights.values\n",
    "    portfolio_return = weighted_returns.sum(axis=1)\n",
    "    cumulative_return = (1 + portfolio_return).cumprod() - 1\n",
    "    df_returns = pd.DataFrame({\n",
    "        'Daily Return': portfolio_return,\n",
    "        'Cumulative Return': cumulative_return\n",
    "    })\n",
    "    return df_returns\n"
   ],
   "metadata": {
    "collapsed": false,
    "ExecuteTime": {
     "end_time": "2023-10-23T12:45:07.858614700Z",
     "start_time": "2023-10-23T12:45:07.831836200Z"
    }
   },
   "id": "a58e5d34ff3238d"
  },
  {
   "cell_type": "code",
   "execution_count": 5,
   "outputs": [
    {
     "data": {
      "text/plain": "            APA      BA      BAX     BMY   CMCSA     CNP     CPB      DE  \\\nweights 0.0000% 6.1590% 11.5018% 0.0000% 0.0000% 8.4805% 0.0000% 3.8193%   \n\n            HPQ     JCI  ...       NI    PCAR     PSA     SEE       T     TGT  \\\nweights 0.0000% 0.0000%  ... 10.8262% 0.0000% 0.0000% 0.0000% 0.0000% 7.1804%   \n\n            TMO     TXT      VZ    ZION  \nweights 0.0001% 0.0000% 4.2737% 0.0000%  \n\n[1 rows x 25 columns]",
      "text/html": "<div>\n<style scoped>\n    .dataframe tbody tr th:only-of-type {\n        vertical-align: middle;\n    }\n\n    .dataframe tbody tr th {\n        vertical-align: top;\n    }\n\n    .dataframe thead th {\n        text-align: right;\n    }\n</style>\n<table border=\"1\" class=\"dataframe\">\n  <thead>\n    <tr style=\"text-align: right;\">\n      <th></th>\n      <th>APA</th>\n      <th>BA</th>\n      <th>BAX</th>\n      <th>BMY</th>\n      <th>CMCSA</th>\n      <th>CNP</th>\n      <th>CPB</th>\n      <th>DE</th>\n      <th>HPQ</th>\n      <th>JCI</th>\n      <th>...</th>\n      <th>NI</th>\n      <th>PCAR</th>\n      <th>PSA</th>\n      <th>SEE</th>\n      <th>T</th>\n      <th>TGT</th>\n      <th>TMO</th>\n      <th>TXT</th>\n      <th>VZ</th>\n      <th>ZION</th>\n    </tr>\n  </thead>\n  <tbody>\n    <tr>\n      <th>weights</th>\n      <td>0.0000%</td>\n      <td>6.1590%</td>\n      <td>11.5018%</td>\n      <td>0.0000%</td>\n      <td>0.0000%</td>\n      <td>8.4805%</td>\n      <td>0.0000%</td>\n      <td>3.8193%</td>\n      <td>0.0000%</td>\n      <td>0.0000%</td>\n      <td>...</td>\n      <td>10.8262%</td>\n      <td>0.0000%</td>\n      <td>0.0000%</td>\n      <td>0.0000%</td>\n      <td>0.0000%</td>\n      <td>7.1804%</td>\n      <td>0.0001%</td>\n      <td>0.0000%</td>\n      <td>4.2737%</td>\n      <td>0.0000%</td>\n    </tr>\n  </tbody>\n</table>\n<p>1 rows × 25 columns</p>\n</div>"
     },
     "metadata": {},
     "output_type": "display_data"
    }
   ],
   "source": [
    "port = rp.Portfolio(returns=Y)\n",
    "\n",
    "# Calculating optimal portfolio\n",
    "\n",
    "# Select method and estimate input parameters:\n",
    "\n",
    "method_mu='hist' # Method to estimate expected returns based on historical data.\n",
    "method_cov='hist' # Method to estimate covariance matrix based on historical data.\n",
    "\n",
    "port.assets_stats(method_mu=method_mu, method_cov=method_cov, d=0.94)\n",
    "\n",
    "# Estimate optimal portfolio:\n",
    "\n",
    "model='Classic' # Could be Classic (historical), BL (Black Litterman) or FM (Factor Model)\n",
    "rm = 'MV' # Risk measure used, this time will be variance\n",
    "obj = 'Sharpe' # Objective function, could be MinRisk, MaxRet, Utility or Sharpe\n",
    "hist = True # Use historical scenarios for risk measures that depend on scenarios\n",
    "rf = 0 # Risk free rate\n",
    "l = 0 # Risk aversion factor, only useful when obj is 'Utility'\n",
    "\n",
    "w = port.optimization(model=model, rm=rm, obj=obj, rf=rf, l=l, hist=hist)\n",
    "\n",
    "display(w.T)"
   ],
   "metadata": {
    "collapsed": false,
    "ExecuteTime": {
     "end_time": "2023-10-23T12:45:08.235326600Z",
     "start_time": "2023-10-23T12:45:07.849871600Z"
    }
   },
   "id": "f2155ac277e08527"
  },
  {
   "cell_type": "code",
   "execution_count": 6,
   "outputs": [
    {
     "ename": "NameError",
     "evalue": "name 'cov' is not defined",
     "output_type": "error",
     "traceback": [
      "\u001B[1;31m---------------------------------------------------------------------------\u001B[0m",
      "\u001B[1;31mNameError\u001B[0m                                 Traceback (most recent call last)",
      "Cell \u001B[1;32mIn[6], line 7\u001B[0m\n\u001B[0;32m      5\u001B[0m \u001B[38;5;28;01mfor\u001B[39;00m i \u001B[38;5;129;01min\u001B[39;00m \u001B[38;5;28mrange\u001B[39m(\u001B[38;5;241m3\u001B[39m):\n\u001B[0;32m      6\u001B[0m     limits \u001B[38;5;241m=\u001B[39m port\u001B[38;5;241m.\u001B[39mfrontier_limits(model\u001B[38;5;241m=\u001B[39mmodel, rm\u001B[38;5;241m=\u001B[39mrisk[i], rf\u001B[38;5;241m=\u001B[39mrf, hist\u001B[38;5;241m=\u001B[39mhist)\n\u001B[1;32m----> 7\u001B[0m     risk_min \u001B[38;5;241m=\u001B[39m rp\u001B[38;5;241m.\u001B[39mSharpe_Risk(limits[\u001B[38;5;124m'\u001B[39m\u001B[38;5;124mw_min\u001B[39m\u001B[38;5;124m'\u001B[39m], cov\u001B[38;5;241m=\u001B[39m\u001B[43mcov\u001B[49m, returns\u001B[38;5;241m=\u001B[39mreturns, rm\u001B[38;5;241m=\u001B[39mrisk[i], rf\u001B[38;5;241m=\u001B[39mrf, alpha\u001B[38;5;241m=\u001B[39malpha)\n\u001B[0;32m      8\u001B[0m     risk_max \u001B[38;5;241m=\u001B[39m rp\u001B[38;5;241m.\u001B[39mSharpe_Risk(limits[\u001B[38;5;124m'\u001B[39m\u001B[38;5;124mw_max\u001B[39m\u001B[38;5;124m'\u001B[39m], cov\u001B[38;5;241m=\u001B[39mcov, returns\u001B[38;5;241m=\u001B[39mreturns, rm\u001B[38;5;241m=\u001B[39mrisk[i], rf\u001B[38;5;241m=\u001B[39mrf, alpha\u001B[38;5;241m=\u001B[39malpha)\n\u001B[0;32m     10\u001B[0m     \u001B[38;5;28;01mif\u001B[39;00m \u001B[38;5;124m'\u001B[39m\u001B[38;5;124mDrawdown\u001B[39m\u001B[38;5;124m'\u001B[39m \u001B[38;5;129;01min\u001B[39;00m label[i]:\n",
      "\u001B[1;31mNameError\u001B[0m: name 'cov' is not defined"
     ]
    }
   ],
   "source": [
    "risk = ['MV', 'CVaR', 'MDD']\n",
    "label = ['Std. Dev.', 'CVaR', 'Max Drawdown']\n",
    "alpha = 0.05\n",
    "\n",
    "for i in range(3):\n",
    "    limits = port.frontier_limits(model=model, rm=risk[i], rf=rf, hist=hist)\n",
    "    risk_min = rp.Sharpe_Risk(limits['w_min'], cov=cov, returns=returns, rm=risk[i], rf=rf, alpha=alpha)\n",
    "    risk_max = rp.Sharpe_Risk(limits['w_max'], cov=cov, returns=returns, rm=risk[i], rf=rf, alpha=alpha)\n",
    "\n",
    "    if 'Drawdown' in label[i]:\n",
    "        factor = 1\n",
    "    else:\n",
    "        factor = 252**0.5\n",
    "\n",
    "    print('\\nMin Return ' + label[i] + ': ', (mu @ limits['w_min']).item() * 252)\n",
    "    print('Max Return ' + label[i] + ': ',  (mu @ limits['w_max']).item() * 252)\n",
    "    print('Min ' + label[i] + ': ', risk_min * factor)\n",
    "    print('Max ' + label[i] + ': ', risk_max * factor)"
   ],
   "metadata": {
    "collapsed": false,
    "ExecuteTime": {
     "end_time": "2023-10-23T12:45:08.631529800Z",
     "start_time": "2023-10-23T12:45:07.987624900Z"
    }
   },
   "id": "6439449a8b38e23d"
  },
  {
   "cell_type": "code",
   "execution_count": null,
   "outputs": [],
   "source": [
    "rm = 'CVaR' # Risk measure\n",
    "obj = 'Sharpe' # Objective function\n",
    "# Constraint on maximum CVaR\n",
    "l = 1 #\n",
    "\n",
    "port.upperCVaR = 0.24/252**0.5 # We transform annual CVaR to daily CVaR\n",
    "\n",
    "#rm = 'MV' obj = 'MinRisk' 2)\n",
    "w = port.optimization(model=model, rm=rm, obj=obj, rf=rf, l=l, hist=hist)\n",
    "\n",
    "display(w.T)"
   ],
   "metadata": {
    "collapsed": false,
    "ExecuteTime": {
     "start_time": "2023-10-23T12:45:08.599409100Z"
    }
   },
   "id": "db28007be0be00d0"
  },
  {
   "cell_type": "code",
   "execution_count": null,
   "outputs": [],
   "source": [
    "ax = rp.plot_pie(w=w, title='Sharpe Mean CVaR', others=0.05, nrow=25, cmap = \"tab20\",\n",
    "                 height=6, width=10, ax=None)"
   ],
   "metadata": {
    "collapsed": false,
    "ExecuteTime": {
     "start_time": "2023-10-23T12:45:08.599409100Z"
    }
   },
   "id": "eebd6b16a4974a67"
  },
  {
   "cell_type": "code",
   "execution_count": null,
   "outputs": [],
   "source": [
    "port_test = calculate_portfolio_returns(Y, w.T)\n",
    "stock = port_test['Daily Return']\n",
    "df_new = pd.DataFrame((stock.sharpe(),\n",
    "    stock.cvar(),\n",
    "    stock.value_at_risk(),\n",
    "    stock.var(),\n",
    "    stock.volatility()))\n",
    "df_new = df_new.T\n",
    "df_new.columns = ['Sharpe', 'CVaR', 'VaR', 'Var', 'Volatility']\n",
    "df = pd.concat([df, df_new])\n",
    "\n"
   ],
   "metadata": {
    "collapsed": false,
    "ExecuteTime": {
     "start_time": "2023-10-23T12:45:08.600408400Z"
    }
   },
   "id": "5db7f64e2c6d876a"
  },
  {
   "cell_type": "code",
   "execution_count": null,
   "outputs": [],
   "source": [
    "df"
   ],
   "metadata": {
    "collapsed": false,
    "ExecuteTime": {
     "start_time": "2023-10-23T12:45:08.600408400Z"
    }
   },
   "id": "dfd0f121628e69cb"
  },
  {
   "cell_type": "code",
   "execution_count": null,
   "outputs": [],
   "source": [
    "points = 50 # Number of points of the frontier\n",
    "\n",
    "frontier = port.efficient_frontier(model=model, rm=rm, points=points, rf=rf, hist=hist)\n",
    "\n",
    "display(frontier.T.head())\n",
    "\n",
    "ax = rp.plot_frontier(w_frontier=frontier, mu=mu, cov=cov, returns=returns, rm='CVaR',\n",
    "                      rf=rf, alpha=0.05, cmap='viridis', w=w, label=label,\n",
    "                      marker='*', s=16, c='r', height=6, width=10, ax=None)"
   ],
   "metadata": {
    "collapsed": false,
    "ExecuteTime": {
     "start_time": "2023-10-23T12:45:08.600408400Z"
    }
   },
   "id": "5bbb22c883c374e5"
  },
  {
   "cell_type": "code",
   "execution_count": null,
   "outputs": [],
   "source": [],
   "metadata": {
    "collapsed": false
   },
   "id": "aaf8a10a74bbfef6"
  },
  {
   "cell_type": "code",
   "execution_count": 105,
   "outputs": [],
   "source": [
    "\n",
    "class PortfolioOptimizerTest:\n",
    "    \"\"\"\n",
    "    This class is used to TEST optimize the portfolio using the risk-folio library\n",
    "    \"\"\"\n",
    "    method_mu = 'hist'\n",
    "    method_cov = 'hist'\n",
    "    model = 'Classic'\n",
    "    rm = 'CVaR'\n",
    "    hist = True\n",
    "    rf = 0\n",
    "    lib = 0\n",
    "    OBJ_OPTIONS = {'MinRisk', 'Utility', 'Sharpe', 'MaxRet'}\n",
    "    RISK_LEVEL_USER = {'Conservative': 1, 'Moderate': 2, 'Aggressive': 3, 'Very Aggressive': 4}\n",
    "    RISK_LEVEL_MAPPING = {\n",
    "        1: 'MinRisk',\n",
    "        2: 'Utility',\n",
    "        3: 'Sharpe',\n",
    "        4: 'MaxRet'\n",
    "    }\n",
    "    RISK_LEVEL_DEFAULT = 'Moderate'\n",
    "    \n",
    "    def __init__(self):\n",
    "        self.weights_initial_sum = None\n",
    "        self._assets = None\n",
    "        self._cvar_value = None\n",
    "        self._risk_level = None\n",
    "        self._obj = 'Sharpe'\n",
    "    \n",
    "    @property\n",
    "    def obj(self):\n",
    "        return self._obj\n",
    "    @property\n",
    "    def cvar_value(self):\n",
    "        return self._cvar_value\n",
    "    \n",
    "    @property\n",
    "    def risk_level(self):\n",
    "        return self._risk_level\n",
    "    \n",
    "    @cvar_value.setter\n",
    "    def cvar_value(self, cvar_value):\n",
    "        self._cvar_value = cvar_value / 252 ** 0.5\n",
    "\n",
    "    @risk_level.setter\n",
    "    def risk_level(self, risk_profile):\n",
    "        self._risk_level = self.RISK_LEVEL_USER.get(risk_profile, self.RISK_LEVEL_DEFAULT)\n",
    "        self.set_objective_function(self.RISK_LEVEL_MAPPING.get(self._risk_level, self.RISK_LEVEL_DEFAULT))\n",
    "\n",
    "    @property\n",
    "    def assets(self):\n",
    "        return self._assets\n",
    "\n",
    "    @property\n",
    "    def weights_initial_sum(self):\n",
    "        return self._weights_initial_sum\n",
    "\n",
    "    @weights_initial_sum.setter\n",
    "    def weights_initial_sum(self, value):\n",
    "        self._weights_initial_sum = value\n",
    "\n",
    "    def set_initial_asset(self, assets, weights=None):\n",
    "        if not isinstance(assets, (list, tuple)):\n",
    "            raise TypeError(\"The 'assets' parameter must be a list or tuple.\")\n",
    "\n",
    "        if weights is not None and not isinstance(weights, (list, tuple)):\n",
    "            raise TypeError(\"The 'weights' parameter must be a list or tuple.\")\n",
    "\n",
    "        if weights is not None and len(assets) != len(weights):\n",
    "            raise ValueError(\"The lengths of 'assets' and 'weights' must be the same.\")\n",
    "\n",
    "        self._assets = pd.DataFrame({'assets': assets, 'weights': weights})\n",
    "\n",
    "        weights_initial_sum = self._assets['weights'].sum()\n",
    "        self.weights_initial_sum = weights_initial_sum\n",
    "        print('Initial weights sum:', weights_initial_sum)\n",
    "\n",
    "\n",
    "\n",
    "\n",
    "    def set_objective_function(self, objective: str):\n",
    "        \"\"\"\n",
    "        Set the objective function for portfolio optimization.\n",
    "        :param objective: str\n",
    "            The name of the objective function (e.g., 'MinRisk', 'Utility', 'Sharpe', 'MaxRet').\n",
    "        \"\"\"\n",
    "        if objective in self.OBJ_OPTIONS:\n",
    "            self._obj = objective\n",
    "        else:\n",
    "            raise ValueError(f'Invalid objective function: {objective}')\n",
    "\n",
    " \n",
    "    def port_optimize(self, returns_train):\n",
    "        portfolio = rp.Portfolio(returns=returns_train)\n",
    "        portfolio.assets_stats(method_mu=method_mu, method_cov=method_cov, d=0.94)\n",
    "        if self.cvar_value is not None:\n",
    "            try:\n",
    "                portfolio.upperCVaR = self.cvar_value\n",
    "            except Exception as e:\n",
    "                print(e)\n",
    "        weights_optimized = portfolio.optimization(\n",
    "            model=self.model,\n",
    "            rm=self.rm,\n",
    "            obj=self.obj,\n",
    "            rf=self.rf,\n",
    "            l=self.lib,\n",
    "            hist=True)\n",
    "        if self.weights_initial_sum is not None:\n",
    "            try:\n",
    "                weights_optimized['weights'] = weights_optimized['weights'] * (1 - self.weights_initial_sum)\n",
    "                self.assets.set_index('assets', inplace=True)\n",
    "                weights_optimized = pd.concat([self.assets, weights_optimized], axis=0)\n",
    "            except Exception as e:\n",
    "                print(e)\n",
    "                \n",
    "        return weights_optimized"
   ],
   "metadata": {
    "collapsed": false,
    "ExecuteTime": {
     "end_time": "2023-10-23T21:53:56.963648800Z",
     "start_time": "2023-10-23T21:53:56.942848400Z"
    }
   },
   "id": "11cc27cd0497f29a"
  },
  {
   "cell_type": "code",
   "execution_count": 106,
   "outputs": [],
   "source": [
    "port = PortfolioOptimizerTest()"
   ],
   "metadata": {
    "collapsed": false,
    "ExecuteTime": {
     "end_time": "2023-10-23T21:53:57.565457800Z",
     "start_time": "2023-10-23T21:53:57.550771100Z"
    }
   },
   "id": "e02edf099ad67ea"
  },
  {
   "cell_type": "code",
   "execution_count": 107,
   "outputs": [
    {
     "name": "stdout",
     "output_type": "stream",
     "text": [
      "Initial weights sum: 1.0\n"
     ]
    }
   ],
   "source": [
    "port.set_initial_asset(['Asset1', 'Asset2'], [0.6, 0.4])\n"
   ],
   "metadata": {
    "collapsed": false,
    "ExecuteTime": {
     "end_time": "2023-10-23T21:53:57.966533800Z",
     "start_time": "2023-10-23T21:53:57.916053700Z"
    }
   },
   "id": "8173c249f660fb4"
  },
  {
   "cell_type": "code",
   "execution_count": 108,
   "outputs": [
    {
     "data": {
      "text/plain": "0.015118578920369087"
     },
     "execution_count": 108,
     "metadata": {},
     "output_type": "execute_result"
    }
   ],
   "source": [
    "port.cvar_value = 0.24\n",
    "port.cvar_value"
   ],
   "metadata": {
    "collapsed": false,
    "ExecuteTime": {
     "end_time": "2023-10-23T21:53:58.431410400Z",
     "start_time": "2023-10-23T21:53:58.400015900Z"
    }
   },
   "id": "830e6a0158000bc9"
  },
  {
   "cell_type": "code",
   "execution_count": 99,
   "outputs": [],
   "source": [
    "port.risk_level = 'Very Aggressive'"
   ],
   "metadata": {
    "collapsed": false,
    "ExecuteTime": {
     "end_time": "2023-10-23T21:52:37.151386600Z",
     "start_time": "2023-10-23T21:52:37.121252400Z"
    }
   },
   "id": "405b1469624f0342"
  },
  {
   "cell_type": "code",
   "execution_count": 100,
   "outputs": [
    {
     "data": {
      "text/plain": "'MaxRet'"
     },
     "execution_count": 100,
     "metadata": {},
     "output_type": "execute_result"
    }
   ],
   "source": [
    "port.obj"
   ],
   "metadata": {
    "collapsed": false,
    "ExecuteTime": {
     "end_time": "2023-10-23T21:52:37.881516600Z",
     "start_time": "2023-10-23T21:52:37.852922700Z"
    }
   },
   "id": "c464defcad4e3324"
  },
  {
   "cell_type": "code",
   "execution_count": 101,
   "outputs": [
    {
     "data": {
      "text/plain": "        weights\nAsset1 60.0000%\nAsset2 40.0000%\nAPA     0.0000%\nBA      0.0000%\nBAX     0.0000%\nBMY     0.0000%\nCMCSA   0.0000%\nCNP     0.0000%\nCPB     0.0000%\nDE      0.0000%\nHPQ     0.0000%\nJCI     0.0000%\nJPM     0.0000%\nLUV     0.0000%\nMMC     0.0000%\nMO      0.0000%\nMSFT    0.0000%\nNI      0.0000%\nPCAR    0.0000%\nPSA     0.0000%\nSEE     0.0000%\nT       0.0000%\nTGT     0.0000%\nTMO     0.0000%\nTXT     0.0000%\nVZ      0.0000%\nZION    0.0000%",
      "text/html": "<div>\n<style scoped>\n    .dataframe tbody tr th:only-of-type {\n        vertical-align: middle;\n    }\n\n    .dataframe tbody tr th {\n        vertical-align: top;\n    }\n\n    .dataframe thead th {\n        text-align: right;\n    }\n</style>\n<table border=\"1\" class=\"dataframe\">\n  <thead>\n    <tr style=\"text-align: right;\">\n      <th></th>\n      <th>weights</th>\n    </tr>\n  </thead>\n  <tbody>\n    <tr>\n      <th>Asset1</th>\n      <td>60.0000%</td>\n    </tr>\n    <tr>\n      <th>Asset2</th>\n      <td>40.0000%</td>\n    </tr>\n    <tr>\n      <th>APA</th>\n      <td>0.0000%</td>\n    </tr>\n    <tr>\n      <th>BA</th>\n      <td>0.0000%</td>\n    </tr>\n    <tr>\n      <th>BAX</th>\n      <td>0.0000%</td>\n    </tr>\n    <tr>\n      <th>BMY</th>\n      <td>0.0000%</td>\n    </tr>\n    <tr>\n      <th>CMCSA</th>\n      <td>0.0000%</td>\n    </tr>\n    <tr>\n      <th>CNP</th>\n      <td>0.0000%</td>\n    </tr>\n    <tr>\n      <th>CPB</th>\n      <td>0.0000%</td>\n    </tr>\n    <tr>\n      <th>DE</th>\n      <td>0.0000%</td>\n    </tr>\n    <tr>\n      <th>HPQ</th>\n      <td>0.0000%</td>\n    </tr>\n    <tr>\n      <th>JCI</th>\n      <td>0.0000%</td>\n    </tr>\n    <tr>\n      <th>JPM</th>\n      <td>0.0000%</td>\n    </tr>\n    <tr>\n      <th>LUV</th>\n      <td>0.0000%</td>\n    </tr>\n    <tr>\n      <th>MMC</th>\n      <td>0.0000%</td>\n    </tr>\n    <tr>\n      <th>MO</th>\n      <td>0.0000%</td>\n    </tr>\n    <tr>\n      <th>MSFT</th>\n      <td>0.0000%</td>\n    </tr>\n    <tr>\n      <th>NI</th>\n      <td>0.0000%</td>\n    </tr>\n    <tr>\n      <th>PCAR</th>\n      <td>0.0000%</td>\n    </tr>\n    <tr>\n      <th>PSA</th>\n      <td>0.0000%</td>\n    </tr>\n    <tr>\n      <th>SEE</th>\n      <td>0.0000%</td>\n    </tr>\n    <tr>\n      <th>T</th>\n      <td>0.0000%</td>\n    </tr>\n    <tr>\n      <th>TGT</th>\n      <td>0.0000%</td>\n    </tr>\n    <tr>\n      <th>TMO</th>\n      <td>0.0000%</td>\n    </tr>\n    <tr>\n      <th>TXT</th>\n      <td>0.0000%</td>\n    </tr>\n    <tr>\n      <th>VZ</th>\n      <td>0.0000%</td>\n    </tr>\n    <tr>\n      <th>ZION</th>\n      <td>0.0000%</td>\n    </tr>\n  </tbody>\n</table>\n</div>"
     },
     "execution_count": 101,
     "metadata": {},
     "output_type": "execute_result"
    }
   ],
   "source": [
    "port.port_optimize(Y)\n"
   ],
   "metadata": {
    "collapsed": false,
    "ExecuteTime": {
     "end_time": "2023-10-23T21:52:39.858909200Z",
     "start_time": "2023-10-23T21:52:39.740049100Z"
    }
   },
   "id": "5efc3db659c947b7"
  },
  {
   "cell_type": "code",
   "execution_count": null,
   "outputs": [],
   "source": [],
   "metadata": {
    "collapsed": false,
    "ExecuteTime": {
     "start_time": "2023-10-23T12:45:08.626991Z"
    }
   },
   "id": "f1fddb51228260d0"
  },
  {
   "cell_type": "code",
   "execution_count": null,
   "outputs": [],
   "source": [],
   "metadata": {
    "collapsed": false,
    "ExecuteTime": {
     "start_time": "2023-10-23T12:45:08.628499400Z"
    }
   },
   "id": "4297291b513c728"
  }
 ],
 "metadata": {
  "kernelspec": {
   "display_name": "Python 3",
   "language": "python",
   "name": "python3"
  },
  "language_info": {
   "codemirror_mode": {
    "name": "ipython",
    "version": 2
   },
   "file_extension": ".py",
   "mimetype": "text/x-python",
   "name": "python",
   "nbconvert_exporter": "python",
   "pygments_lexer": "ipython2",
   "version": "2.7.6"
  }
 },
 "nbformat": 4,
 "nbformat_minor": 5
}
