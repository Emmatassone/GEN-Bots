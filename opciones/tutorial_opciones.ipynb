{
 "cells": [
  {
   "cell_type": "markdown",
   "id": "619b3d34-7920-4f17-ad3b-2fc2be0457fa",
   "metadata": {},
   "source": [
    "# Tutorial Opciones"
   ]
  },
  {
   "cell_type": "markdown",
   "id": "6b286046-fa45-413c-8e0d-11ab26833512",
   "metadata": {},
   "source": [
    "## Importamos el DataFrame que contiene opciones. El df fue generado con el file get_options_from_pyhb.py"
   ]
  },
  {
   "cell_type": "code",
   "execution_count": 1,
   "id": "dce34ee7-d848-4158-9fdd-b53bdcaf01f7",
   "metadata": {
    "ExecuteTime": {
     "end_time": "2024-03-30T16:44:58.410901500Z",
     "start_time": "2024-03-30T16:44:55.842907200Z"
    }
   },
   "outputs": [],
   "source": [
    "import pandas as pd\n",
    "\n",
    "#Opciones del 22/02/24 a las 12:02pm\n",
    "df=pd.read_csv('opciones.csv')\n",
    "\n",
    "#Limpiamos el df de las opciones sin volumen\n",
    "cleaned_df = df.dropna(subset=['volume'])\n",
    "\n",
    "#Nos quedamos con las opciones de un GGAL que vencen en Abril\n",
    "expiration_month = 'AB'\n",
    "underlying_asset = 'GGAL'\n",
    "\n",
    "GGAL_options=cleaned_df[cleaned_df['underlying_asset']==underlying_asset]\n",
    "GGAL_options_april=GGAL_options[GGAL_options['symbol'].str.contains(expiration_month)]"
   ]
  },
  {
   "cell_type": "code",
   "execution_count": 2,
   "id": "be011be3-ad20-40cd-bf83-65bed09fb335",
   "metadata": {
    "tags": [],
    "ExecuteTime": {
     "end_time": "2024-03-30T16:44:58.480600700Z",
     "start_time": "2024-03-30T16:44:58.409397400Z"
    }
   },
   "outputs": [
    {
     "data": {
      "text/plain": "         symbol  bid_size     bid      ask  ask_size     last  change  \\\n264  GFGC800.AB       NaN     NaN      NaN       NaN  1615.00    0.31   \n265  GFGV800.AB      49.0    0.27     0.33      20.0     0.27   -6.89   \n269  GFGV1300AB     200.0    0.22     0.44       7.0     0.21  -49.51   \n270  GFGC1350AB       NaN     NaN      NaN       NaN  1200.00    0.84   \n271  GFGV1350AB      10.0    0.21     0.35      30.0     0.35  -23.74   \n273  GFGV1400AB     964.0    0.31     0.58      13.0     0.31  -40.95   \n275  GFGV1450AB     954.0    0.40     0.64       6.0     0.41  -33.00   \n277  GFGV1500AB       5.0    0.55     0.99      29.0     0.55  -42.94   \n279  GFGV1570AB      76.0    0.90     1.24       1.0     0.90  -18.18   \n280  GFGC1640AB       6.0  800.00  1029.00       1.0   800.00    0.93   \n\n        open     high      low  previous_close  turnover  volume  operations  \\\n264  1615.00  1615.00  1615.00        1610.000  161500.0     1.0         1.0   \n265     0.27     0.27     0.27           0.290      27.0     1.0         1.0   \n269     0.44     0.44     0.20           0.416     240.0     9.0         5.0   \n270  1200.00  1200.00  1200.00        1190.000  240000.0     2.0         1.0   \n271     0.25     0.38     0.25           0.459    2954.0   104.0        17.0   \n273     0.59     0.59     0.30           0.525    2703.0    78.0        15.0   \n275     0.40     0.40     0.40           0.612    1840.0    46.0         6.0   \n277     0.99     0.99     0.51           0.964   11011.0   209.0        23.0   \n279     0.90     0.90     0.90           1.100    1620.0    18.0         5.0   \n280   800.00   800.00   800.00         792.599   80000.0     1.0         1.0   \n\n                datetime  expiration  strike  kind underlying_asset  \n264  2024-02-22 11:40:01  2024-04-19   800.0  CALL             GGAL  \n265  2024-02-22 11:43:55  2024-04-19   800.0   PUT             GGAL  \n269  2024-02-22 11:49:47  2024-04-19  1300.0   PUT             GGAL  \n270  2024-02-22 11:25:10  2024-04-19  1350.0  CALL             GGAL  \n271  2024-02-22 12:01:59  2024-04-19  1350.0   PUT             GGAL  \n273  2024-02-22 11:50:43  2024-04-19  1400.0   PUT             GGAL  \n275  2024-02-22 11:50:15  2024-04-19  1450.0   PUT             GGAL  \n277  2024-02-22 11:50:50  2024-04-19  1500.0   PUT             GGAL  \n279  2024-02-22 12:01:59  2024-04-19  1570.0   PUT             GGAL  \n280  2024-02-22 11:09:06  2024-04-19  1640.0  CALL             GGAL  ",
      "text/html": "<div>\n<style scoped>\n    .dataframe tbody tr th:only-of-type {\n        vertical-align: middle;\n    }\n\n    .dataframe tbody tr th {\n        vertical-align: top;\n    }\n\n    .dataframe thead th {\n        text-align: right;\n    }\n</style>\n<table border=\"1\" class=\"dataframe\">\n  <thead>\n    <tr style=\"text-align: right;\">\n      <th></th>\n      <th>symbol</th>\n      <th>bid_size</th>\n      <th>bid</th>\n      <th>ask</th>\n      <th>ask_size</th>\n      <th>last</th>\n      <th>change</th>\n      <th>open</th>\n      <th>high</th>\n      <th>low</th>\n      <th>previous_close</th>\n      <th>turnover</th>\n      <th>volume</th>\n      <th>operations</th>\n      <th>datetime</th>\n      <th>expiration</th>\n      <th>strike</th>\n      <th>kind</th>\n      <th>underlying_asset</th>\n    </tr>\n  </thead>\n  <tbody>\n    <tr>\n      <th>264</th>\n      <td>GFGC800.AB</td>\n      <td>NaN</td>\n      <td>NaN</td>\n      <td>NaN</td>\n      <td>NaN</td>\n      <td>1615.00</td>\n      <td>0.31</td>\n      <td>1615.00</td>\n      <td>1615.00</td>\n      <td>1615.00</td>\n      <td>1610.000</td>\n      <td>161500.0</td>\n      <td>1.0</td>\n      <td>1.0</td>\n      <td>2024-02-22 11:40:01</td>\n      <td>2024-04-19</td>\n      <td>800.0</td>\n      <td>CALL</td>\n      <td>GGAL</td>\n    </tr>\n    <tr>\n      <th>265</th>\n      <td>GFGV800.AB</td>\n      <td>49.0</td>\n      <td>0.27</td>\n      <td>0.33</td>\n      <td>20.0</td>\n      <td>0.27</td>\n      <td>-6.89</td>\n      <td>0.27</td>\n      <td>0.27</td>\n      <td>0.27</td>\n      <td>0.290</td>\n      <td>27.0</td>\n      <td>1.0</td>\n      <td>1.0</td>\n      <td>2024-02-22 11:43:55</td>\n      <td>2024-04-19</td>\n      <td>800.0</td>\n      <td>PUT</td>\n      <td>GGAL</td>\n    </tr>\n    <tr>\n      <th>269</th>\n      <td>GFGV1300AB</td>\n      <td>200.0</td>\n      <td>0.22</td>\n      <td>0.44</td>\n      <td>7.0</td>\n      <td>0.21</td>\n      <td>-49.51</td>\n      <td>0.44</td>\n      <td>0.44</td>\n      <td>0.20</td>\n      <td>0.416</td>\n      <td>240.0</td>\n      <td>9.0</td>\n      <td>5.0</td>\n      <td>2024-02-22 11:49:47</td>\n      <td>2024-04-19</td>\n      <td>1300.0</td>\n      <td>PUT</td>\n      <td>GGAL</td>\n    </tr>\n    <tr>\n      <th>270</th>\n      <td>GFGC1350AB</td>\n      <td>NaN</td>\n      <td>NaN</td>\n      <td>NaN</td>\n      <td>NaN</td>\n      <td>1200.00</td>\n      <td>0.84</td>\n      <td>1200.00</td>\n      <td>1200.00</td>\n      <td>1200.00</td>\n      <td>1190.000</td>\n      <td>240000.0</td>\n      <td>2.0</td>\n      <td>1.0</td>\n      <td>2024-02-22 11:25:10</td>\n      <td>2024-04-19</td>\n      <td>1350.0</td>\n      <td>CALL</td>\n      <td>GGAL</td>\n    </tr>\n    <tr>\n      <th>271</th>\n      <td>GFGV1350AB</td>\n      <td>10.0</td>\n      <td>0.21</td>\n      <td>0.35</td>\n      <td>30.0</td>\n      <td>0.35</td>\n      <td>-23.74</td>\n      <td>0.25</td>\n      <td>0.38</td>\n      <td>0.25</td>\n      <td>0.459</td>\n      <td>2954.0</td>\n      <td>104.0</td>\n      <td>17.0</td>\n      <td>2024-02-22 12:01:59</td>\n      <td>2024-04-19</td>\n      <td>1350.0</td>\n      <td>PUT</td>\n      <td>GGAL</td>\n    </tr>\n    <tr>\n      <th>273</th>\n      <td>GFGV1400AB</td>\n      <td>964.0</td>\n      <td>0.31</td>\n      <td>0.58</td>\n      <td>13.0</td>\n      <td>0.31</td>\n      <td>-40.95</td>\n      <td>0.59</td>\n      <td>0.59</td>\n      <td>0.30</td>\n      <td>0.525</td>\n      <td>2703.0</td>\n      <td>78.0</td>\n      <td>15.0</td>\n      <td>2024-02-22 11:50:43</td>\n      <td>2024-04-19</td>\n      <td>1400.0</td>\n      <td>PUT</td>\n      <td>GGAL</td>\n    </tr>\n    <tr>\n      <th>275</th>\n      <td>GFGV1450AB</td>\n      <td>954.0</td>\n      <td>0.40</td>\n      <td>0.64</td>\n      <td>6.0</td>\n      <td>0.41</td>\n      <td>-33.00</td>\n      <td>0.40</td>\n      <td>0.40</td>\n      <td>0.40</td>\n      <td>0.612</td>\n      <td>1840.0</td>\n      <td>46.0</td>\n      <td>6.0</td>\n      <td>2024-02-22 11:50:15</td>\n      <td>2024-04-19</td>\n      <td>1450.0</td>\n      <td>PUT</td>\n      <td>GGAL</td>\n    </tr>\n    <tr>\n      <th>277</th>\n      <td>GFGV1500AB</td>\n      <td>5.0</td>\n      <td>0.55</td>\n      <td>0.99</td>\n      <td>29.0</td>\n      <td>0.55</td>\n      <td>-42.94</td>\n      <td>0.99</td>\n      <td>0.99</td>\n      <td>0.51</td>\n      <td>0.964</td>\n      <td>11011.0</td>\n      <td>209.0</td>\n      <td>23.0</td>\n      <td>2024-02-22 11:50:50</td>\n      <td>2024-04-19</td>\n      <td>1500.0</td>\n      <td>PUT</td>\n      <td>GGAL</td>\n    </tr>\n    <tr>\n      <th>279</th>\n      <td>GFGV1570AB</td>\n      <td>76.0</td>\n      <td>0.90</td>\n      <td>1.24</td>\n      <td>1.0</td>\n      <td>0.90</td>\n      <td>-18.18</td>\n      <td>0.90</td>\n      <td>0.90</td>\n      <td>0.90</td>\n      <td>1.100</td>\n      <td>1620.0</td>\n      <td>18.0</td>\n      <td>5.0</td>\n      <td>2024-02-22 12:01:59</td>\n      <td>2024-04-19</td>\n      <td>1570.0</td>\n      <td>PUT</td>\n      <td>GGAL</td>\n    </tr>\n    <tr>\n      <th>280</th>\n      <td>GFGC1640AB</td>\n      <td>6.0</td>\n      <td>800.00</td>\n      <td>1029.00</td>\n      <td>1.0</td>\n      <td>800.00</td>\n      <td>0.93</td>\n      <td>800.00</td>\n      <td>800.00</td>\n      <td>800.00</td>\n      <td>792.599</td>\n      <td>80000.0</td>\n      <td>1.0</td>\n      <td>1.0</td>\n      <td>2024-02-22 11:09:06</td>\n      <td>2024-04-19</td>\n      <td>1640.0</td>\n      <td>CALL</td>\n      <td>GGAL</td>\n    </tr>\n  </tbody>\n</table>\n</div>"
     },
     "execution_count": 2,
     "metadata": {},
     "output_type": "execute_result"
    }
   ],
   "source": [
    "GGAL_options_april.head(10)"
   ]
  },
  {
   "cell_type": "markdown",
   "id": "0b19e7da-fce8-4260-880d-70d900b3bdf8",
   "metadata": {
    "tags": []
   },
   "source": [
    "## Importamos la clase armadora de estrategias y buscamos las estrategias con mejor profit o menor costo del momento"
   ]
  },
  {
   "cell_type": "code",
   "execution_count": 3,
   "id": "73f40ef7-3fe0-489b-b9d9-ff2770935501",
   "metadata": {
    "tags": [],
    "ExecuteTime": {
     "end_time": "2024-03-30T16:44:58.545367200Z",
     "start_time": "2024-03-30T16:44:58.460562900Z"
    }
   },
   "outputs": [],
   "source": [
    "from option_strategies import OptionStrategyBuilder\n",
    "\n",
    "strategy_builder = OptionStrategyBuilder(GGAL_options_april)"
   ]
  },
  {
   "cell_type": "markdown",
   "id": "d8626eb8-4ea2-4028-a73b-6a71ebf2b425",
   "metadata": {
    "tags": []
   },
   "source": [
    "## Bull call spread "
   ]
  },
  {
   "cell_type": "code",
   "execution_count": 4,
   "id": "2f9ba93b-4652-4ebb-bb3c-5c7984a74f47",
   "metadata": {
    "tags": [],
    "ExecuteTime": {
     "end_time": "2024-03-30T16:44:58.748312Z",
     "start_time": "2024-03-30T16:44:58.496623800Z"
    }
   },
   "outputs": [
    {
     "data": {
      "text/plain": "   Strike Compra  Precio de Compra  Strike Venta  Precio de Venta    Costo  \\\n0         1640.0            1029.0        4200.0            10.19 -1018.81   \n1         1640.0            1029.0        4050.0            14.40 -1014.60   \n2         1640.0            1029.0        3900.0            19.70 -1009.30   \n3         1640.0            1029.0        3750.0            30.00  -999.00   \n4         1640.0            1029.0        3600.0            35.00  -994.00   \n5         2020.0             680.0        4200.0            10.19  -669.81   \n6         1640.0            1029.0        3450.0            58.00  -971.00   \n7         2020.0             680.0        4050.0            14.40  -665.60   \n8         2100.0             575.0        4200.0            10.19  -564.81   \n9         1640.0            1029.0        3300.0            67.50  -961.50   \n\n  Credito Neto  Ganancia Maxima  Riesgo Maximo  \n0         None          3578.81        1018.81  \n1         None          3424.60        1014.60  \n2         None          3269.30        1009.30  \n3         None          3109.00         999.00  \n4         None          2954.00         994.00  \n5         None          2849.81         669.81  \n6         None          2781.00         971.00  \n7         None          2695.60         665.60  \n8         None          2664.81         564.81  \n9         None          2621.50         961.50  ",
      "text/html": "<div>\n<style scoped>\n    .dataframe tbody tr th:only-of-type {\n        vertical-align: middle;\n    }\n\n    .dataframe tbody tr th {\n        vertical-align: top;\n    }\n\n    .dataframe thead th {\n        text-align: right;\n    }\n</style>\n<table border=\"1\" class=\"dataframe\">\n  <thead>\n    <tr style=\"text-align: right;\">\n      <th></th>\n      <th>Strike Compra</th>\n      <th>Precio de Compra</th>\n      <th>Strike Venta</th>\n      <th>Precio de Venta</th>\n      <th>Costo</th>\n      <th>Credito Neto</th>\n      <th>Ganancia Maxima</th>\n      <th>Riesgo Maximo</th>\n    </tr>\n  </thead>\n  <tbody>\n    <tr>\n      <th>0</th>\n      <td>1640.0</td>\n      <td>1029.0</td>\n      <td>4200.0</td>\n      <td>10.19</td>\n      <td>-1018.81</td>\n      <td>None</td>\n      <td>3578.81</td>\n      <td>1018.81</td>\n    </tr>\n    <tr>\n      <th>1</th>\n      <td>1640.0</td>\n      <td>1029.0</td>\n      <td>4050.0</td>\n      <td>14.40</td>\n      <td>-1014.60</td>\n      <td>None</td>\n      <td>3424.60</td>\n      <td>1014.60</td>\n    </tr>\n    <tr>\n      <th>2</th>\n      <td>1640.0</td>\n      <td>1029.0</td>\n      <td>3900.0</td>\n      <td>19.70</td>\n      <td>-1009.30</td>\n      <td>None</td>\n      <td>3269.30</td>\n      <td>1009.30</td>\n    </tr>\n    <tr>\n      <th>3</th>\n      <td>1640.0</td>\n      <td>1029.0</td>\n      <td>3750.0</td>\n      <td>30.00</td>\n      <td>-999.00</td>\n      <td>None</td>\n      <td>3109.00</td>\n      <td>999.00</td>\n    </tr>\n    <tr>\n      <th>4</th>\n      <td>1640.0</td>\n      <td>1029.0</td>\n      <td>3600.0</td>\n      <td>35.00</td>\n      <td>-994.00</td>\n      <td>None</td>\n      <td>2954.00</td>\n      <td>994.00</td>\n    </tr>\n    <tr>\n      <th>5</th>\n      <td>2020.0</td>\n      <td>680.0</td>\n      <td>4200.0</td>\n      <td>10.19</td>\n      <td>-669.81</td>\n      <td>None</td>\n      <td>2849.81</td>\n      <td>669.81</td>\n    </tr>\n    <tr>\n      <th>6</th>\n      <td>1640.0</td>\n      <td>1029.0</td>\n      <td>3450.0</td>\n      <td>58.00</td>\n      <td>-971.00</td>\n      <td>None</td>\n      <td>2781.00</td>\n      <td>971.00</td>\n    </tr>\n    <tr>\n      <th>7</th>\n      <td>2020.0</td>\n      <td>680.0</td>\n      <td>4050.0</td>\n      <td>14.40</td>\n      <td>-665.60</td>\n      <td>None</td>\n      <td>2695.60</td>\n      <td>665.60</td>\n    </tr>\n    <tr>\n      <th>8</th>\n      <td>2100.0</td>\n      <td>575.0</td>\n      <td>4200.0</td>\n      <td>10.19</td>\n      <td>-564.81</td>\n      <td>None</td>\n      <td>2664.81</td>\n      <td>564.81</td>\n    </tr>\n    <tr>\n      <th>9</th>\n      <td>1640.0</td>\n      <td>1029.0</td>\n      <td>3300.0</td>\n      <td>67.50</td>\n      <td>-961.50</td>\n      <td>None</td>\n      <td>2621.50</td>\n      <td>961.50</td>\n    </tr>\n  </tbody>\n</table>\n</div>"
     },
     "execution_count": 4,
     "metadata": {},
     "output_type": "execute_result"
    }
   ],
   "source": [
    "strategy_builder.bull_call_spread()"
   ]
  },
  {
   "cell_type": "markdown",
   "id": "cf3d6da2-7ee8-4cef-9908-61ee8161ca70",
   "metadata": {},
   "source": [
    "El dataframe devuelto contiene 7 columnas con\n",
    "- **Strike Compra**: valor de strike del CALL a COMPRAR con strike menor,\n",
    "- **Precio de Compra**: precio del CALL a COMPRAR con strike menor,\n",
    "- **Strike Venta**: valor de strike del CALL a VENDER con strike mayor,\n",
    "- **Precio de Venta**: precio del CALL a VENDER con strike mayor,\n",
    "- **Costo**: Costo en ARS de implementar la estrategia,\n",
    "- **Ganancia Maxima**: Ganancia máxima posible de la estrategia,\n",
    "- **Riesgo Maximo**: Pérdida máxima posible de la estrategia."
   ]
  },
  {
   "cell_type": "markdown",
   "id": "9e2311a4-1fe0-450e-b514-da1ed8a20272",
   "metadata": {
    "tags": []
   },
   "source": [
    "### Bull Put spread"
   ]
  },
  {
   "cell_type": "code",
   "execution_count": 5,
   "id": "3b93b311-0c42-4db4-9fa3-4460efbf8931",
   "metadata": {
    "tags": [],
    "ExecuteTime": {
     "end_time": "2024-03-30T16:44:58.997291900Z",
     "start_time": "2024-03-30T16:44:58.693197100Z"
    }
   },
   "outputs": [
    {
     "data": {
      "text/plain": "   Strike Compra  Precio de Compra  Strike Venta  Precio de Venta Costo  \\\n0          800.0              0.33        2800.0            380.0  None   \n1         1350.0              0.35        2800.0            380.0  None   \n2         1300.0              0.44        2800.0            380.0  None   \n3         1400.0              0.58        2800.0            380.0  None   \n4         1450.0              0.64        2800.0            380.0  None   \n5         1500.0              0.99        2800.0            380.0  None   \n6         1570.0              1.24        2800.0            380.0  None   \n7         1640.0              1.82        2800.0            380.0  None   \n8         1710.0              2.25        2800.0            380.0  None   \n9         1780.0              3.80        2800.0            380.0  None   \n\n   Credito Neto  Ganancia Maxima  Riesgo Maximo  \n0        379.67           379.67       -1620.33  \n1        379.65           379.65       -1070.35  \n2        379.56           379.56       -1120.44  \n3        379.42           379.42       -1020.58  \n4        379.36           379.36        -970.64  \n5        379.01           379.01        -920.99  \n6        378.76           378.76        -851.24  \n7        378.18           378.18        -781.82  \n8        377.75           377.75        -712.25  \n9        376.20           376.20        -643.80  ",
      "text/html": "<div>\n<style scoped>\n    .dataframe tbody tr th:only-of-type {\n        vertical-align: middle;\n    }\n\n    .dataframe tbody tr th {\n        vertical-align: top;\n    }\n\n    .dataframe thead th {\n        text-align: right;\n    }\n</style>\n<table border=\"1\" class=\"dataframe\">\n  <thead>\n    <tr style=\"text-align: right;\">\n      <th></th>\n      <th>Strike Compra</th>\n      <th>Precio de Compra</th>\n      <th>Strike Venta</th>\n      <th>Precio de Venta</th>\n      <th>Costo</th>\n      <th>Credito Neto</th>\n      <th>Ganancia Maxima</th>\n      <th>Riesgo Maximo</th>\n    </tr>\n  </thead>\n  <tbody>\n    <tr>\n      <th>0</th>\n      <td>800.0</td>\n      <td>0.33</td>\n      <td>2800.0</td>\n      <td>380.0</td>\n      <td>None</td>\n      <td>379.67</td>\n      <td>379.67</td>\n      <td>-1620.33</td>\n    </tr>\n    <tr>\n      <th>1</th>\n      <td>1350.0</td>\n      <td>0.35</td>\n      <td>2800.0</td>\n      <td>380.0</td>\n      <td>None</td>\n      <td>379.65</td>\n      <td>379.65</td>\n      <td>-1070.35</td>\n    </tr>\n    <tr>\n      <th>2</th>\n      <td>1300.0</td>\n      <td>0.44</td>\n      <td>2800.0</td>\n      <td>380.0</td>\n      <td>None</td>\n      <td>379.56</td>\n      <td>379.56</td>\n      <td>-1120.44</td>\n    </tr>\n    <tr>\n      <th>3</th>\n      <td>1400.0</td>\n      <td>0.58</td>\n      <td>2800.0</td>\n      <td>380.0</td>\n      <td>None</td>\n      <td>379.42</td>\n      <td>379.42</td>\n      <td>-1020.58</td>\n    </tr>\n    <tr>\n      <th>4</th>\n      <td>1450.0</td>\n      <td>0.64</td>\n      <td>2800.0</td>\n      <td>380.0</td>\n      <td>None</td>\n      <td>379.36</td>\n      <td>379.36</td>\n      <td>-970.64</td>\n    </tr>\n    <tr>\n      <th>5</th>\n      <td>1500.0</td>\n      <td>0.99</td>\n      <td>2800.0</td>\n      <td>380.0</td>\n      <td>None</td>\n      <td>379.01</td>\n      <td>379.01</td>\n      <td>-920.99</td>\n    </tr>\n    <tr>\n      <th>6</th>\n      <td>1570.0</td>\n      <td>1.24</td>\n      <td>2800.0</td>\n      <td>380.0</td>\n      <td>None</td>\n      <td>378.76</td>\n      <td>378.76</td>\n      <td>-851.24</td>\n    </tr>\n    <tr>\n      <th>7</th>\n      <td>1640.0</td>\n      <td>1.82</td>\n      <td>2800.0</td>\n      <td>380.0</td>\n      <td>None</td>\n      <td>378.18</td>\n      <td>378.18</td>\n      <td>-781.82</td>\n    </tr>\n    <tr>\n      <th>8</th>\n      <td>1710.0</td>\n      <td>2.25</td>\n      <td>2800.0</td>\n      <td>380.0</td>\n      <td>None</td>\n      <td>377.75</td>\n      <td>377.75</td>\n      <td>-712.25</td>\n    </tr>\n    <tr>\n      <th>9</th>\n      <td>1780.0</td>\n      <td>3.80</td>\n      <td>2800.0</td>\n      <td>380.0</td>\n      <td>None</td>\n      <td>376.20</td>\n      <td>376.20</td>\n      <td>-643.80</td>\n    </tr>\n  </tbody>\n</table>\n</div>"
     },
     "execution_count": 5,
     "metadata": {},
     "output_type": "execute_result"
    }
   ],
   "source": [
    "strategy_builder.bull_put_spread()"
   ]
  },
  {
   "cell_type": "markdown",
   "id": "91c2e1e0-7cc1-4553-aae2-247930e8812d",
   "metadata": {},
   "source": [
    "El dataframe devuelto contiene 7 columnas con\n",
    "- **Strike Compra**: valor de strike del PUT a COMPRAR con strike menor,\n",
    "- **Precio de Compra**: precio del PUT a COMPRAR con strike menor,\n",
    "- **Strike Venta**: valor de strike del PUT a VENDER con strike mayor,\n",
    "- **Precio de Venta**: precio del PUT a VENDER con strike mayor,\n",
    "- **Crédito Neto**: Saldo positivo tras implementar la estrategia,\n",
    "- **Ganancia Maxima**: Ganancia máxima posible de la estrategia,\n",
    "- **Riesgo Maximo**: Pérdida máxima posible de la estrategia."
   ]
  },
  {
   "cell_type": "code",
   "execution_count": 5,
   "id": "322bbeae-2c3b-4194-919c-23dddcb31f62",
   "metadata": {
    "ExecuteTime": {
     "end_time": "2024-03-30T16:44:58.998291500Z",
     "start_time": "2024-03-30T16:44:58.878773200Z"
    }
   },
   "outputs": [],
   "source": []
  }
 ],
 "metadata": {
  "kernelspec": {
   "display_name": "Python 3 (ipykernel)",
   "language": "python",
   "name": "python3"
  },
  "language_info": {
   "codemirror_mode": {
    "name": "ipython",
    "version": 3
   },
   "file_extension": ".py",
   "mimetype": "text/x-python",
   "name": "python",
   "nbconvert_exporter": "python",
   "pygments_lexer": "ipython3",
   "version": "3.11.4"
  }
 },
 "nbformat": 4,
 "nbformat_minor": 5
}
