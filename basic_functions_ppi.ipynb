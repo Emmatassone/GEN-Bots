{
 "cells": [
  {
   "cell_type": "code",
   "execution_count": 3,
   "id": "f39acb91-74d0-49f1-b28b-5a1eb14ac244",
   "metadata": {},
   "outputs": [],
   "source": [
    "# Imports \n",
    "from ppi_client.api.constants import ACCOUNTDATA_TYPE_ACCOUNT_NOTIFICATION, ACCOUNTDATA_TYPE_PUSH_NOTIFICATION, \\\n",
    "    ACCOUNTDATA_TYPE_ORDER_NOTIFICATION\n",
    "from ppi_client.models.account_movements import AccountMovements\n",
    "from ppi_client.models.bank_account_request import BankAccountRequest\n",
    "from ppi_client.models.foreign_bank_account_request import ForeignBankAccountRequest, ForeignBankAccountRequestDTO\n",
    "from ppi_client.models.cancel_bank_account_request import CancelBankAccountRequest\n",
    "from ppi_client.models.order import Order\n",
    "from ppi_client.ppi import PPI\n",
    "from ppi_client.models.order_budget import OrderBudget\n",
    "from ppi_client.models.order_confirm import OrderConfirm\n",
    "from ppi_client.models.disclaimer import Disclaimer\n",
    "from ppi_client.models.investing_profile import InvestingProfile\n",
    "from ppi_client.models.investing_profile_answer import InvestingProfileAnswer\n",
    "from ppi_client.models.instrument import Instrument\n",
    "from datetime import datetime, timedelta\n",
    "from ppi_client.models.estimate_bonds import EstimateBonds\n",
    "import asyncio\n",
    "import json\n",
    "import traceback\n",
    "import os"
   ]
  },
  {
   "cell_type": "markdown",
   "id": "b6025275-c991-4c44-b0bd-4c6b8aab46d4",
   "metadata": {},
   "source": [
    "### Connection to Sandbox environment"
   ]
  },
  {
   "cell_type": "code",
   "execution_count": 14,
   "id": "bd8f792a-c8d2-47d0-b143-3aef5fd4f99e",
   "metadata": {},
   "outputs": [],
   "source": [
    "#Change sandbox variable to False to connect to real account\n",
    "sandbox_public_key='enZ1dE5HcnlHOWRiQlpCWXEyQXg='\n",
    "sandbox_secret_key='Zjg2Zjc3NzItYTQ1Yy00ZWM3LTk3YzYtZjAwMzE0ODNlNTcy'\n",
    "\n",
    "ppi = PPI(sandbox=True)"
   ]
  },
  {
   "cell_type": "code",
   "execution_count": 15,
   "id": "868f0b7b-4c8e-4c8f-93b7-42eb8272e2e8",
   "metadata": {},
   "outputs": [
    {
     "data": {
      "text/plain": [
       "{'creationDate': '2023-05-27T13:08:48-03:00',\n",
       " 'expirationDate': '2023-05-27T14:38:48-03:00',\n",
       " 'accessToken': 'eyJ0eXAiOiJKV1QiLCJhbGciOiJIUzI1NiJ9.eyJQUEF1dGguQ2xhaW1zLkdlbmVyYWwuR3JhbnRUeXBlIjpbIkRBVE9TX1BFUlNPTkFMRVMiLCJFU0NSSVRVUkEiLCJMRUNUVVJBIl0sInJvbGUiOiJQUEF1dGguUm9sLkdlbmVyYWwuVXNlclRyYWRpbmciLCJQUEF1dGguQ2xhaW1zLkdlbmVyYWwuQ3VlbnRhcyI6IjE3MDY3IiwidW5pcXVlX25hbWUiOiJ1c3VhcmlvNDMzNTEiLCJuYW1laWQiOiI0MzM1MSIsIlBQQXV0aC5DbGFpbXMuR2VuZXJhbC5GaXNydE5hbWUiOiJOb21icmUgNDMzNTEiLCJQUEF1dGguQ2xhaW1zLkdlbmVyYWwuTGFzdE5hbWUiOiJBcGVsbGlkbyA0MzM1MSIsImVtYWlsIjoibWFpbDQzMzUxQHRlc3QuY29tIiwiUFBBdXRoLkNsYWltcy5HZW5lcmFsLkV4cGlyYXRpb25UaW1lIjoiMjAyMy8wNS8yNyAxNDozODo0OSIsIlBQQXV0aC5DbGFpbXMuR2VuZXJhbC5DbGllbnRJRCI6IkFQSV9DTElfUFlUSE9OIiwiaXNzIjoiUFBBdXRoLnNhbmRib3guUFBJIiwiYXVkIjoiaHR0cHM6Ly9hcGlfc2FuZGJveC5wb3J0Zm9saW9wZXJzb25hbC5jb20iLCJleHAiOjE2ODUyMDkxMjgsIm5iZiI6MTY4NTIwMzcyOH0.Br9wLGEEEPCCQ3mi0_9Mghi6jp0Va3rhMnlLTw-4Bio',\n",
       " 'expires': 5399,\n",
       " 'refreshToken': 'da6c49737e084af8af71426b6868f5b4',\n",
       " 'tokenType': 'bearer'}"
      ]
     },
     "execution_count": 15,
     "metadata": {},
     "output_type": "execute_result"
    }
   ],
   "source": [
    "# Change login credential to connect to the API\n",
    "ppi.account.login_api(sandbox_public_key,sandbox_secret_key)"
   ]
  },
  {
   "cell_type": "markdown",
   "id": "b6436546-1d08-4a10-ab4f-30c88e10e0ef",
   "metadata": {},
   "source": [
    "## Account Information"
   ]
  },
  {
   "cell_type": "code",
   "execution_count": 17,
   "id": "804c85ff-3d84-433d-9228-2a4eca2a14bd",
   "metadata": {},
   "outputs": [
    {
     "name": "stdout",
     "output_type": "stream",
     "text": [
      "Getting accounts information\n",
      "[{'accountNumber': '151233', 'name': 'Cuenta 151233', 'officer': {'name': 'Portfolio Personal', 'eMail': 'consultas@portfoliopersonal.com', 'phone': '+5411 5252-7599'}, 'externalID': None}]\n"
     ]
    }
   ],
   "source": [
    "print(\"Getting accounts information\")\n",
    "account_numbers = ppi.account.get_accounts()\n",
    "print(account_numbers)"
   ]
  },
  {
   "cell_type": "code",
   "execution_count": 19,
   "id": "a9e3c3d5-e480-48ed-bae1-9f510dc4c70a",
   "metadata": {},
   "outputs": [
    {
     "name": "stdout",
     "output_type": "stream",
     "text": [
      "{'accountNumber': '151233', 'name': 'Cuenta 151233', 'officer': {'name': 'Portfolio Personal', 'eMail': 'consultas@portfoliopersonal.com', 'phone': '+5411 5252-7599'}, 'externalID': None}\n"
     ]
    }
   ],
   "source": [
    "#Sandbox has only one account\n",
    "for account in account_numbers:\n",
    "    print(account)"
   ]
  },
  {
   "cell_type": "code",
   "execution_count": 24,
   "id": "1d299d39-7c02-437f-9023-93a6adc796de",
   "metadata": {},
   "outputs": [
    {
     "name": "stdout",
     "output_type": "stream",
     "text": [
      "[{'name': 'Pesos', 'symbol': 'ARS', 'amount': -15461.57, 'settlement': 'INMEDIATA'}, {'name': 'Pesos', 'symbol': 'ARS', 'amount': -15461.57, 'settlement': 'A-24HS'}, {'name': 'Pesos', 'symbol': 'ARS', 'amount': -15461.57, 'settlement': 'A-48HS'}, {'name': 'Dolar Divisa | CCL', 'symbol': 'USD', 'amount': 0, 'settlement': 'INMEDIATA'}, {'name': 'Dolar Divisa | CCL', 'symbol': 'USD', 'amount': 0, 'settlement': 'A-24HS'}, {'name': 'Dolar Divisa | CCL', 'symbol': 'USD', 'amount': 0, 'settlement': 'A-48HS'}, {'name': 'Transferencia Dolar Divisa | CCL', 'symbol': 'USD', 'amount': 14.43, 'settlement': 'INMEDIATA'}, {'name': 'Dolar Billete | MEP', 'symbol': 'USD', 'amount': 0, 'settlement': 'INMEDIATA'}, {'name': 'Dolar Billete | MEP', 'symbol': 'USD', 'amount': 0, 'settlement': 'A-24HS'}, {'name': 'Dolar Billete | MEP', 'symbol': 'USD', 'amount': 0, 'settlement': 'A-48HS'}, {'name': 'Transferencia Dolar Billete | MEP', 'symbol': 'USD', 'amount': 17.34, 'settlement': 'INMEDIATA'}]\n"
     ]
    }
   ],
   "source": [
    "account_number = account_numbers[0]['accountNumber']\n",
    "balances = ppi.account.get_available_balance(account_number)\n",
    "#Print balances of the sandbox account\n",
    "print(balances)"
   ]
  },
  {
   "cell_type": "code",
   "execution_count": 27,
   "id": "41260347-460a-4bf1-b3ae-47e49977d67b",
   "metadata": {},
   "outputs": [
    {
     "name": "stdout",
     "output_type": "stream",
     "text": [
      "{'groupedAvailability': [{'currency': 'Pesos', 'availability': [{'name': 'Pesos', 'symbol': 'ARS', 'amount': 2206.43, 'settlement': 'INMEDIATA'}, {'name': 'Pesos', 'symbol': 'ARS', 'amount': 0, 'settlement': 'A-24HS'}, {'name': 'Pesos', 'symbol': 'ARS', 'amount': 0, 'settlement': 'A-48HS'}]}, {'currency': 'Dolar Divisa | CCL', 'availability': [{'name': 'Dolar Divisa | CCL', 'symbol': 'USD', 'amount': 14.43, 'settlement': 'INMEDIATA'}, {'name': 'Dolar Divisa | CCL', 'symbol': 'USD', 'amount': 0, 'settlement': 'A-24HS'}, {'name': 'Dolar Divisa | CCL', 'symbol': 'USD', 'amount': 0, 'settlement': 'A-48HS'}]}, {'currency': 'Dolar Billete | MEP', 'availability': [{'name': 'Dolar Billete | MEP', 'symbol': 'USD', 'amount': 2.91, 'settlement': 'INMEDIATA'}, {'name': 'Dolar Billete | MEP', 'symbol': 'USD', 'amount': 0, 'settlement': 'A-24HS'}, {'name': 'Dolar Billete | MEP', 'symbol': 'USD', 'amount': 0, 'settlement': 'A-48HS'}]}], 'groupedInstruments': [{'name': 'ACCIONES', 'instruments': [{'ticker': 'AGRO', 'description': 'Agrometal', 'currency': 'Pesos', 'price': 70.6, 'amount': 35300.0}, {'ticker': 'ALUA', 'description': 'Aluar Aluminio Argentino', 'currency': 'Pesos', 'price': 240.25, 'amount': 55978.25}, {'ticker': 'GGAL', 'description': 'Grupo Financiero Galicia', 'currency': 'Pesos', 'price': 447.85, 'amount': 317973.5}, {'ticker': 'SUPV', 'description': 'Grupo Supervielle', 'currency': 'Pesos', 'price': 191.3, 'amount': 19130.0}], 'groupedValue': 428381.75}, {'name': 'BONOS', 'instruments': [{'ticker': 'T2V1', 'description': 'BONO DEL TESORO DOLAR LINKED 30/11/2021', 'currency': 'Pesos', 'price': 100.49, 'amount': 33664.15}], 'groupedValue': 33664.15}, {'name': 'CEDEARS', 'instruments': [{'ticker': 'ABEV', 'description': 'Ambev', 'currency': 'Pesos', 'price': 3431, 'amount': 89206}, {'ticker': 'AZN', 'description': 'Astrazeneca', 'currency': 'Pesos', 'price': 14528.5, 'amount': 14528.5}, {'ticker': 'BABA', 'description': 'Alibaba Group Holding', 'currency': 'Pesos', 'price': 4557.5, 'amount': 22787.5}, {'ticker': 'RIO', 'description': 'Rio Tinto', 'currency': 'Pesos', 'price': 6784, 'amount': 33920}, {'ticker': 'VIST', 'description': 'Vista Energy', 'currency': 'Pesos', 'price': 8579.5, 'amount': 102954}, {'ticker': 'WFC', 'description': 'Wells Fargo & Co.', 'currency': 'Pesos', 'price': 3125, 'amount': 31250}], 'groupedValue': 294646}, {'name': 'FCI', 'instruments': [{'ticker': 'TT.AHORRO.A', 'description': 'TORONTO TRUST AHORRO Clase A', 'currency': 'Pesos', 'price': 11.2893, 'amount': 142438.59}], 'groupedValue': 142438.59}]}\n"
     ]
    }
   ],
   "source": [
    "# Getting balance and positions\n",
    "balances_positions = ppi.account.get_balance_and_positions(account_number)\n",
    "print(balances_positions)"
   ]
  },
  {
   "cell_type": "code",
   "execution_count": 28,
   "id": "31de633f-bb8d-4455-a43d-6710cfb4614d",
   "metadata": {},
   "outputs": [
    {
     "name": "stdout",
     "output_type": "stream",
     "text": [
      "Instrument ACCIONES \n",
      "Ticker AGRO Price 70.6 Amount 35300.0\n",
      "Ticker ALUA Price 240.25 Amount 55978.25\n",
      "Ticker GGAL Price 447.85 Amount 317973.5\n",
      "Ticker SUPV Price 191.3 Amount 19130.0\n",
      "Instrument BONOS \n",
      "Ticker T2V1 Price 100.49 Amount 33664.15\n",
      "Instrument CEDEARS \n",
      "Ticker ABEV Price 3431 Amount 89206\n",
      "Ticker AZN Price 14528.5 Amount 14528.5\n",
      "Ticker BABA Price 4557.5 Amount 22787.5\n",
      "Ticker RIO Price 6784 Amount 33920\n",
      "Ticker VIST Price 8579.5 Amount 102954\n",
      "Ticker WFC Price 3125 Amount 31250\n",
      "Instrument FCI \n",
      "Ticker TT.AHORRO.A Price 11.2893 Amount 142438.59\n"
     ]
    }
   ],
   "source": [
    "#Positions in the sandbox account\n",
    "for instruments in balances_positions[\"groupedInstruments\"]:\n",
    "    print(\"Instrument %s \" % instruments['name'])\n",
    "    for instrument in instruments['instruments']:\n",
    "        print(\"Ticker %s Price %s Amount %s\" % (\n",
    "            instrument['ticker'], instrument['price'], instrument['amount']))"
   ]
  },
  {
   "cell_type": "markdown",
   "id": "bf904548-69f1-4c4b-845b-6accb651ccc4",
   "metadata": {},
   "source": [
    "## Market Data"
   ]
  },
  {
   "cell_type": "code",
   "execution_count": 41,
   "id": "d8c14673-b48c-4212-a09c-9ed9bddaaa44",
   "metadata": {},
   "outputs": [
    {
     "name": "stdout",
     "output_type": "stream",
     "text": [
      "\n",
      "Searching MarketData\n",
      "2023-03-01T00:00:00-03:00 - 492.4 - Volume 359113792 - Opening 488.55 - Min 480.35 - Max 500\n",
      "2023-03-02T00:00:00-03:00 - 467.1 - Volume 707777728 - Opening 490 - Min 466.5 - Max 493.5\n",
      "2023-03-03T00:00:00-03:00 - 478.2 - Volume 599348352 - Opening 467 - Min 465 - Max 482.35\n",
      "2023-03-06T00:00:00-03:00 - 488 - Volume 579470592 - Opening 477 - Min 465 - Max 490.5\n",
      "2023-03-07T00:00:00-03:00 - 475.45 - Volume 432177568 - Opening 493 - Min 473 - Max 496.4\n",
      "2023-03-08T00:00:00-03:00 - 497.25 - Volume 901319808 - Opening 479.5 - Min 467.5 - Max 500\n",
      "2023-03-09T00:00:00-03:00 - 486.2 - Volume 568237184 - Opening 498.5 - Min 485.7 - Max 506.9\n",
      "2023-03-10T00:00:00-03:00 - 464.15 - Volume 944450624 - Opening 486.25 - Min 457 - Max 489.5\n",
      "2023-03-13T00:00:00-03:00 - 445.05 - Volume 972578816 - Opening 460 - Min 444 - Max 466.9\n",
      "2023-03-14T00:00:00-03:00 - 431.85 - Volume 845406208 - Opening 461 - Min 430.05 - Max 463.5\n",
      "2023-03-15T00:00:00-03:00 - 408.3 - Volume 868635584 - Opening 420 - Min 401 - Max 422\n",
      "2023-03-16T00:00:00-03:00 - 435.3 - Volume 902175680 - Opening 406 - Min 403 - Max 438.25\n",
      "2023-03-17T00:00:00-03:00 - 421.95 - Volume 490354144 - Opening 424 - Min 417.5 - Max 431\n",
      "2023-03-20T00:00:00-03:00 - 415.95 - Volume 278657792 - Opening 423 - Min 414 - Max 431\n",
      "2023-03-21T00:00:00-03:00 - 440.7 - Volume 832672832 - Opening 430 - Min 426.5 - Max 443.2\n",
      "2023-03-22T00:00:00-03:00 - 426.55 - Volume 295052704 - Opening 440 - Min 425.1 - Max 441\n",
      "2023-03-23T00:00:00-03:00 - 413.8 - Volume 339077056 - Opening 430 - Min 408 - Max 435.9\n",
      "2023-03-27T00:00:00-03:00 - 438.6 - Volume 311475072 - Opening 420 - Min 420 - Max 444.55\n",
      "2023-03-28T00:00:00-03:00 - 448.8 - Volume 327064352 - Opening 436.3 - Min 435.5 - Max 450.95\n",
      "2023-03-29T00:00:00-03:00 - 460.2 - Volume 260871520 - Opening 453.4 - Min 448.9 - Max 468\n",
      "2023-03-30T00:00:00-03:00 - 458.85 - Volume 458006656 - Opening 460 - Min 450 - Max 463.15\n",
      "2023-03-31T00:00:00-03:00 - 442.85 - Volume 589990656 - Opening 459 - Min 435.1 - Max 464.45\n",
      "2023-04-03T00:00:00-03:00 - 461.05 - Volume 426884224 - Opening 443 - Min 440.55 - Max 462.5\n",
      "2023-04-04T00:00:00-03:00 - 451.5 - Volume 311469312 - Opening 459.9 - Min 448 - Max 459.9\n",
      "2023-04-05T00:00:00-03:00 - 451.85 - Volume 466430336 - Opening 449.8 - Min 442.5 - Max 452.05\n",
      "2023-04-10T00:00:00-03:00 - 447.85 - Volume 473594912 - Opening 450 - Min 443.2 - Max 455\n"
     ]
    }
   ],
   "source": [
    "# Search Historic MarketData via Datetime python module on a daily frame\n",
    "print(\"\\nSearching MarketData\")\n",
    "market_data = ppi.marketdata.search(\"GGAL\", \"Acciones\", \"A-48HS\", datetime(2023, 3, 1), datetime.now())\n",
    "for ins in market_data:\n",
    "    print(\"%s - %s - Volume %s - Opening %s - Min %s - Max %s\" % (\n",
    "        ins['date'], ins['price'], ins['volume'], ins['openingPrice'], ins['min'], ins['max']))"
   ]
  },
  {
   "cell_type": "code",
   "execution_count": 42,
   "id": "658ff18c-bea4-40dd-bdcc-55261a6b7c7d",
   "metadata": {},
   "outputs": [
    {
     "name": "stdout",
     "output_type": "stream",
     "text": [
      "\n",
      "Searching Intraday MarketData\n"
     ]
    }
   ],
   "source": [
    "# Search Intraday MarketData\n",
    "print(\"\\nSearching Intraday MarketData\")\n",
    "intraday_market_data = ppi.marketdata.intraday(\"GGAL\", \"Acciones\", \"A-48HS\")\n",
    "#Doesn't work if market is closed\n",
    "for intra in intraday_market_data:\n",
    "    print(intra)"
   ]
  },
  {
   "cell_type": "code",
   "execution_count": 33,
   "id": "089a44d3-ba65-422c-9369-cb22b86060e2",
   "metadata": {},
   "outputs": [
    {
     "name": "stdout",
     "output_type": "stream",
     "text": [
      "\n",
      "Searching Current Book\n",
      "{'date': '0001-01-01T00:00:00-03:00', 'offers': [], 'bids': []}\n"
     ]
    }
   ],
   "source": [
    "# Search Current Order Book\n",
    "print(\"\\nSearching Current Book\")\n",
    "current_book = ppi.marketdata.book(\"GGAL\", \"Acciones\", \"A-48HS\")\n",
    "#If market is closed it'll throw no offers or bids\n",
    "print(current_book)"
   ]
  },
  {
   "cell_type": "markdown",
   "id": "014a9204-7ad1-4e90-abb6-ae12c8b3016f",
   "metadata": {},
   "source": [
    "## Order management"
   ]
  },
  {
   "cell_type": "code",
   "execution_count": 43,
   "id": "42ae7dd8-2a80-4630-a4fc-b012b28ce9a0",
   "metadata": {},
   "outputs": [
    {
     "name": "stdout",
     "output_type": "stream",
     "text": [
      "\n",
      "Get budget for the order\n"
     ]
    },
    {
     "ename": "Exception",
     "evalue": "Saldo insuficiente para la operación solicitada. Se requiere de AR$9.980,78 y usted dispone de AR$-15.461,57",
     "output_type": "error",
     "traceback": [
      "\u001b[0;31m---------------------------------------------------------------------------\u001b[0m",
      "\u001b[0;31mException\u001b[0m                                 Traceback (most recent call last)",
      "Input \u001b[0;32mIn [43]\u001b[0m, in \u001b[0;36m<cell line: 3>\u001b[0;34m()\u001b[0m\n\u001b[1;32m      1\u001b[0m \u001b[38;5;66;03m# Get budget\u001b[39;00m\n\u001b[1;32m      2\u001b[0m \u001b[38;5;28mprint\u001b[39m(\u001b[38;5;124m\"\u001b[39m\u001b[38;5;130;01m\\n\u001b[39;00m\u001b[38;5;124mGet budget for the order\u001b[39m\u001b[38;5;124m\"\u001b[39m)\n\u001b[0;32m----> 3\u001b[0m budget_order \u001b[38;5;241m=\u001b[39m \u001b[43mppi\u001b[49m\u001b[38;5;241;43m.\u001b[39;49m\u001b[43morders\u001b[49m\u001b[38;5;241;43m.\u001b[39;49m\u001b[43mbudget\u001b[49m\u001b[43m(\u001b[49m\u001b[43mOrderBudget\u001b[49m\u001b[43m(\u001b[49m\u001b[43maccount_number\u001b[49m\u001b[43m,\u001b[49m\u001b[43m \u001b[49m\u001b[38;5;241;43m10000\u001b[39;49m\u001b[43m,\u001b[49m\u001b[43m \u001b[49m\u001b[38;5;241;43m150\u001b[39;49m\u001b[43m,\u001b[49m\u001b[43m \u001b[49m\u001b[38;5;124;43m\"\u001b[39;49m\u001b[38;5;124;43mGGAL\u001b[39;49m\u001b[38;5;124;43m\"\u001b[39;49m\u001b[43m,\u001b[49m\u001b[43m \u001b[49m\u001b[38;5;124;43m\"\u001b[39;49m\u001b[38;5;124;43mACCIONES\u001b[39;49m\u001b[38;5;124;43m\"\u001b[39;49m\u001b[43m,\u001b[49m\u001b[43m \u001b[49m\u001b[38;5;124;43m\"\u001b[39;49m\u001b[38;5;124;43mDinero\u001b[39;49m\u001b[38;5;124;43m\"\u001b[39;49m\u001b[43m,\u001b[49m\n\u001b[1;32m      4\u001b[0m \u001b[43m                                             \u001b[49m\u001b[38;5;124;43m\"\u001b[39;49m\u001b[38;5;124;43mPRECIO-LIMITE\u001b[39;49m\u001b[38;5;124;43m\"\u001b[39;49m\u001b[43m,\u001b[49m\u001b[43m \u001b[49m\u001b[38;5;124;43m\"\u001b[39;49m\u001b[38;5;124;43mHASTA-SU-EJECUCIÓN\u001b[39;49m\u001b[38;5;124;43m\"\u001b[39;49m\u001b[43m,\u001b[49m\u001b[43m \u001b[49m\u001b[38;5;28;43;01mNone\u001b[39;49;00m\u001b[43m,\u001b[49m\u001b[43m \u001b[49m\u001b[38;5;124;43m\"\u001b[39;49m\u001b[38;5;124;43mCompra\u001b[39;49m\u001b[38;5;124;43m\"\u001b[39;49m\u001b[43m,\u001b[49m\n\u001b[1;32m      5\u001b[0m \u001b[43m                                             \u001b[49m\u001b[38;5;124;43m\"\u001b[39;49m\u001b[38;5;124;43mINMEDIATA\u001b[39;49m\u001b[38;5;124;43m\"\u001b[39;49m\u001b[43m)\u001b[49m\u001b[43m)\u001b[49m\n\u001b[1;32m      6\u001b[0m \u001b[38;5;28mprint\u001b[39m(budget_order)\n\u001b[1;32m      7\u001b[0m disclaimers_order \u001b[38;5;241m=\u001b[39m budget_order[\u001b[38;5;124m'\u001b[39m\u001b[38;5;124mdisclaimers\u001b[39m\u001b[38;5;124m'\u001b[39m]\n",
      "File \u001b[0;32m~/anaconda3/lib/python3.9/site-packages/ppi_client/api/orders.py:67\u001b[0m, in \u001b[0;36mOrdersApi.budget\u001b[0;34m(self, parameters)\u001b[0m\n\u001b[1;32m     46\u001b[0m \u001b[38;5;124;03m\"\"\"Retrieves a budget for a new order.\u001b[39;00m\n\u001b[1;32m     47\u001b[0m \u001b[38;5;124;03m:param parameters: Parameters for the budget: account_number: str, quantity: int, price: int,\u001b[39;00m\n\u001b[1;32m     48\u001b[0m \u001b[38;5;124;03mticker: str, instrumentType: str, quantityType: str, operationType: str, operationTerm: str,\u001b[39;00m\n\u001b[0;32m   (...)\u001b[0m\n\u001b[1;32m     51\u001b[0m \u001b[38;5;124;03m:rtype: Order budget\u001b[39;00m\n\u001b[1;32m     52\u001b[0m \u001b[38;5;124;03m\"\"\"\u001b[39;00m\n\u001b[1;32m     53\u001b[0m body \u001b[38;5;241m=\u001b[39m {\n\u001b[1;32m     54\u001b[0m     \u001b[38;5;124m\"\u001b[39m\u001b[38;5;124maccountNumber\u001b[39m\u001b[38;5;124m\"\u001b[39m: parameters\u001b[38;5;241m.\u001b[39maccountNumber,\n\u001b[1;32m     55\u001b[0m     \u001b[38;5;124m\"\u001b[39m\u001b[38;5;124mquantity\u001b[39m\u001b[38;5;124m\"\u001b[39m: parameters\u001b[38;5;241m.\u001b[39mquantity,\n\u001b[0;32m   (...)\u001b[0m\n\u001b[1;32m     65\u001b[0m     \u001b[38;5;124m\"\u001b[39m\u001b[38;5;124mactivationPrice\u001b[39m\u001b[38;5;124m\"\u001b[39m: parameters\u001b[38;5;241m.\u001b[39mactivationPrice\n\u001b[1;32m     66\u001b[0m }\n\u001b[0;32m---> 67\u001b[0m result \u001b[38;5;241m=\u001b[39m \u001b[38;5;28;43mself\u001b[39;49m\u001b[38;5;241;43m.\u001b[39;49m\u001b[43m__api_client\u001b[49m\u001b[38;5;241;43m.\u001b[39;49m\u001b[43mpost\u001b[49m\u001b[43m(\u001b[49m\u001b[43mORDER_BUDGET\u001b[49m\u001b[43m,\u001b[49m\u001b[43m \u001b[49m\u001b[43mdata\u001b[49m\u001b[38;5;241;43m=\u001b[39;49m\u001b[43mbody\u001b[49m\u001b[43m)\u001b[49m\n\u001b[1;32m     69\u001b[0m \u001b[38;5;28;01mreturn\u001b[39;00m result\n",
      "File \u001b[0;32m~/anaconda3/lib/python3.9/site-packages/ppi_client/ppi_api_client.py:89\u001b[0m, in \u001b[0;36mPPIClient.post\u001b[0;34m(self, uri, data, params, content_type, api_key, api_secret)\u001b[0m\n\u001b[1;32m     87\u001b[0m     \u001b[38;5;28;01mraise\u001b[39;00m \u001b[38;5;167;01mException\u001b[39;00m(\u001b[38;5;124m\"\u001b[39m\u001b[38;5;124mUnauthorized\u001b[39m\u001b[38;5;124m\"\u001b[39m)\n\u001b[1;32m     88\u001b[0m \u001b[38;5;28;01melif\u001b[39;00m res\u001b[38;5;241m.\u001b[39mhttpStatus \u001b[38;5;241m!=\u001b[39m \u001b[38;5;241m200\u001b[39m:\n\u001b[0;32m---> 89\u001b[0m     \u001b[38;5;28;01mraise\u001b[39;00m \u001b[38;5;167;01mException\u001b[39;00m(res\u001b[38;5;241m.\u001b[39mresponse)\n\u001b[1;32m     91\u001b[0m \u001b[38;5;28;01mreturn\u001b[39;00m res\u001b[38;5;241m.\u001b[39mresponse\n",
      "\u001b[0;31mException\u001b[0m: Saldo insuficiente para la operación solicitada. Se requiere de AR$9.980,78 y usted dispone de AR$-15.461,57"
     ]
    }
   ],
   "source": [
    "# Get budget\n",
    "print(\"\\nGet budget for the order\")\n",
    "budget_order = ppi.orders.budget(OrderBudget(account_number, 10000, 150, \"GGAL\", \"ACCIONES\", \"Dinero\",\n",
    "                                             \"PRECIO-LIMITE\", \"HASTA-SU-EJECUCIÓN\", None, \"Compra\",\n",
    "                                             \"INMEDIATA\"))\n",
    "print(budget_order)\n",
    "disclaimers_order = budget_order['disclaimers']\n"
   ]
  },
  {
   "cell_type": "code",
   "execution_count": 44,
   "id": "33da75c7-3377-406b-8204-fa95303fb157",
   "metadata": {},
   "outputs": [
    {
     "name": "stdout",
     "output_type": "stream",
     "text": [
      "\n",
      "Confirm order\n"
     ]
    },
    {
     "ename": "NameError",
     "evalue": "name 'disclaimers_order' is not defined",
     "output_type": "error",
     "traceback": [
      "\u001b[0;31m---------------------------------------------------------------------------\u001b[0m",
      "\u001b[0;31mNameError\u001b[0m                                 Traceback (most recent call last)",
      "Input \u001b[0;32mIn [44]\u001b[0m, in \u001b[0;36m<cell line: 4>\u001b[0;34m()\u001b[0m\n\u001b[1;32m      2\u001b[0m \u001b[38;5;28mprint\u001b[39m(\u001b[38;5;124m\"\u001b[39m\u001b[38;5;130;01m\\n\u001b[39;00m\u001b[38;5;124mConfirm order\u001b[39m\u001b[38;5;124m\"\u001b[39m)\n\u001b[1;32m      3\u001b[0m accepted_disclaimers \u001b[38;5;241m=\u001b[39m []\n\u001b[0;32m----> 4\u001b[0m \u001b[38;5;28;01mfor\u001b[39;00m disclaimer \u001b[38;5;129;01min\u001b[39;00m \u001b[43mdisclaimers_order\u001b[49m:\n\u001b[1;32m      5\u001b[0m     accepted_disclaimers\u001b[38;5;241m.\u001b[39mappend(Disclaimer(disclaimer[\u001b[38;5;124m'\u001b[39m\u001b[38;5;124mcode\u001b[39m\u001b[38;5;124m'\u001b[39m], \u001b[38;5;28;01mTrue\u001b[39;00m))\n\u001b[1;32m      6\u001b[0m confirmation \u001b[38;5;241m=\u001b[39m ppi\u001b[38;5;241m.\u001b[39morders\u001b[38;5;241m.\u001b[39mconfirm(OrderConfirm(account_number, \u001b[38;5;241m10000\u001b[39m, \u001b[38;5;241m150\u001b[39m, \u001b[38;5;124m\"\u001b[39m\u001b[38;5;124mGGAL\u001b[39m\u001b[38;5;124m\"\u001b[39m, \u001b[38;5;124m\"\u001b[39m\u001b[38;5;124mACCIONES\u001b[39m\u001b[38;5;124m\"\u001b[39m, \u001b[38;5;124m\"\u001b[39m\u001b[38;5;124mDinero\u001b[39m\u001b[38;5;124m\"\u001b[39m,\n\u001b[1;32m      7\u001b[0m                                                \u001b[38;5;124m\"\u001b[39m\u001b[38;5;124mPRECIO-LIMITE\u001b[39m\u001b[38;5;124m\"\u001b[39m, \u001b[38;5;124m\"\u001b[39m\u001b[38;5;124mHASTA-SU-EJECUCIÓN\u001b[39m\u001b[38;5;124m\"\u001b[39m, \u001b[38;5;28;01mNone\u001b[39;00m, \u001b[38;5;124m\"\u001b[39m\u001b[38;5;124mCompra\u001b[39m\u001b[38;5;124m\"\u001b[39m\n\u001b[1;32m      8\u001b[0m                                                , \u001b[38;5;124m\"\u001b[39m\u001b[38;5;124mINMEDIATA\u001b[39m\u001b[38;5;124m\"\u001b[39m, accepted_disclaimers, \u001b[38;5;28;01mNone\u001b[39;00m))\n",
      "\u001b[0;31mNameError\u001b[0m: name 'disclaimers_order' is not defined"
     ]
    }
   ],
   "source": [
    "\n",
    "# Confirm order\n",
    "print(\"\\nConfirm order\")\n",
    "accepted_disclaimers = []\n",
    "for disclaimer in disclaimers_order:\n",
    "    accepted_disclaimers.append(Disclaimer(disclaimer['code'], True))\n",
    "confirmation = ppi.orders.confirm(OrderConfirm(account_number, 10000, 150, \"GGAL\", \"ACCIONES\", \"Dinero\",\n",
    "                                               \"PRECIO-LIMITE\", \"HASTA-SU-EJECUCIÓN\", None, \"Compra\"\n",
    "                                               , \"INMEDIATA\", accepted_disclaimers, None))\n",
    "print(confirmation)\n",
    "order_id = confirmation[\"id\"]\n",
    "\n"
   ]
  },
  {
   "cell_type": "markdown",
   "id": "4595faa4-af18-47b3-a690-a7fc0f1e0683",
   "metadata": {
    "tags": []
   },
   "source": [
    "## Bond analysis"
   ]
  },
  {
   "cell_type": "code",
   "execution_count": 46,
   "id": "dd6621c8-ffe4-44de-8a8e-308828a92a46",
   "metadata": {},
   "outputs": [
    {
     "name": "stdout",
     "output_type": "stream",
     "text": [
      "\n",
      "Estimate bond\n",
      "{'flows': [{'cuttingDate': '2023-06-30T00:00:00-03:00', 'residualValue': 1, 'rent': 130.307576585739, 'amortization': 0, 'total': 130.307576585739, 'quantity': 0, 'ticker': None, 'currency': None, 'name': None}, {'cuttingDate': '2023-12-31T00:00:00-03:00', 'residualValue': 1, 'rent': 130.307576585739, 'amortization': 0, 'total': 130.307576585739, 'quantity': 0, 'ticker': None, 'currency': None, 'name': None}, {'cuttingDate': '2024-06-30T00:00:00-03:00', 'residualValue': 1, 'rent': 130.307576585739, 'amortization': 0, 'total': 130.307576585739, 'quantity': 0, 'ticker': None, 'currency': None, 'name': None}, {'cuttingDate': '2024-12-31T00:00:00-03:00', 'residualValue': 1, 'rent': 130.307576585739, 'amortization': 0, 'total': 130.307576585739, 'quantity': 0, 'ticker': None, 'currency': None, 'name': None}, {'cuttingDate': '2025-06-30T00:00:00-03:00', 'residualValue': 1, 'rent': 130.307576585739, 'amortization': 0, 'total': 130.307576585739, 'quantity': 0, 'ticker': None, 'currency': None, 'name': None}, {'cuttingDate': '2025-12-31T00:00:00-03:00', 'residualValue': 1, 'rent': 130.307576585739, 'amortization': 0, 'total': 130.307576585739, 'quantity': 0, 'ticker': None, 'currency': None, 'name': None}, {'cuttingDate': '2026-06-30T00:00:00-03:00', 'residualValue': 1, 'rent': 130.307576585739, 'amortization': 0, 'total': 130.307576585739, 'quantity': 0, 'ticker': None, 'currency': None, 'name': None}, {'cuttingDate': '2026-12-31T00:00:00-03:00', 'residualValue': 1, 'rent': 130.307576585739, 'amortization': 0, 'total': 130.307576585739, 'quantity': 0, 'ticker': None, 'currency': None, 'name': None}, {'cuttingDate': '2027-06-30T00:00:00-03:00', 'residualValue': 1, 'rent': 130.307576585739, 'amortization': 0, 'total': 130.307576585739, 'quantity': 0, 'ticker': None, 'currency': None, 'name': None}, {'cuttingDate': '2027-12-31T00:00:00-03:00', 'residualValue': 1, 'rent': 130.307576585739, 'amortization': 0, 'total': 130.307576585739, 'quantity': 0, 'ticker': None, 'currency': None, 'name': None}, {'cuttingDate': '2028-06-30T00:00:00-03:00', 'residualValue': 1, 'rent': 130.307576585739, 'amortization': 0, 'total': 130.307576585739, 'quantity': 0, 'ticker': None, 'currency': None, 'name': None}, {'cuttingDate': '2028-12-31T00:00:00-03:00', 'residualValue': 1, 'rent': 130.307576585739, 'amortization': 0, 'total': 130.307576585739, 'quantity': 0, 'ticker': None, 'currency': None, 'name': None}, {'cuttingDate': '2029-06-30T00:00:00-03:00', 'residualValue': 1, 'rent': 130.307576585739, 'amortization': 0, 'total': 130.307576585739, 'quantity': 0, 'ticker': None, 'currency': None, 'name': None}, {'cuttingDate': '2029-12-31T00:00:00-03:00', 'residualValue': 1, 'rent': 130.307576585739, 'amortization': 0, 'total': 130.307576585739, 'quantity': 0, 'ticker': None, 'currency': None, 'name': None}, {'cuttingDate': '2030-06-30T00:00:00-03:00', 'residualValue': 1, 'rent': 130.307576585739, 'amortization': 0, 'total': 130.307576585739, 'quantity': 0, 'ticker': None, 'currency': None, 'name': None}, {'cuttingDate': '2030-12-31T00:00:00-03:00', 'residualValue': 1, 'rent': 130.307576585739, 'amortization': 0, 'total': 130.307576585739, 'quantity': 0, 'ticker': None, 'currency': None, 'name': None}, {'cuttingDate': '2031-06-30T00:00:00-03:00', 'residualValue': 1, 'rent': 130.307576585739, 'amortization': 0, 'total': 130.307576585739, 'quantity': 0, 'ticker': None, 'currency': None, 'name': None}, {'cuttingDate': '2031-12-31T00:00:00-03:00', 'residualValue': 1, 'rent': 130.307576585739, 'amortization': 0, 'total': 130.307576585739, 'quantity': 0, 'ticker': None, 'currency': None, 'name': None}, {'cuttingDate': '2032-06-30T00:00:00-03:00', 'residualValue': 1, 'rent': 130.307576585739, 'amortization': 0, 'total': 130.307576585739, 'quantity': 0, 'ticker': None, 'currency': None, 'name': None}, {'cuttingDate': '2032-12-31T00:00:00-03:00', 'residualValue': 1, 'rent': 130.307576585739, 'amortization': 0, 'total': 130.307576585739, 'quantity': 0, 'ticker': None, 'currency': None, 'name': None}, {'cuttingDate': '2033-06-30T00:00:00-03:00', 'residualValue': 1, 'rent': 130.307576585739, 'amortization': 0, 'total': 130.307576585739, 'quantity': 0, 'ticker': None, 'currency': None, 'name': None}, {'cuttingDate': '2033-12-31T00:00:00-03:00', 'residualValue': 1, 'rent': 130.307576585739, 'amortization': 0, 'total': 130.307576585739, 'quantity': 0, 'ticker': None, 'currency': None, 'name': None}, {'cuttingDate': '2034-06-30T00:00:00-03:00', 'residualValue': 1, 'rent': 130.307576585739, 'amortization': 0, 'total': 130.307576585739, 'quantity': 0, 'ticker': None, 'currency': None, 'name': None}, {'cuttingDate': '2034-12-31T00:00:00-03:00', 'residualValue': 1, 'rent': 130.307576585739, 'amortization': 0, 'total': 130.307576585739, 'quantity': 0, 'ticker': None, 'currency': None, 'name': None}, {'cuttingDate': '2035-06-30T00:00:00-03:00', 'residualValue': 1, 'rent': 130.307576585739, 'amortization': 0, 'total': 130.307576585739, 'quantity': 0, 'ticker': None, 'currency': None, 'name': None}, {'cuttingDate': '2035-12-31T00:00:00-03:00', 'residualValue': 1, 'rent': 130.307576585739, 'amortization': 0, 'total': 130.307576585739, 'quantity': 0, 'ticker': None, 'currency': None, 'name': None}, {'cuttingDate': '2036-06-30T00:00:00-03:00', 'residualValue': 1, 'rent': 130.307576585739, 'amortization': 393.680463673319, 'total': 523.988040259058, 'quantity': 0, 'ticker': None, 'currency': None, 'name': None}, {'cuttingDate': '2036-12-31T00:00:00-03:00', 'residualValue': 0.95, 'rent': 123.792164911945, 'amortization': 393.680463673319, 'total': 517.472628585264, 'quantity': 0, 'ticker': None, 'currency': None, 'name': None}, {'cuttingDate': '2037-06-30T00:00:00-03:00', 'residualValue': 0.9, 'rent': 117.276753238152, 'amortization': 393.680463673319, 'total': 510.957216911471, 'quantity': 0, 'ticker': None, 'currency': None, 'name': None}, {'cuttingDate': '2037-12-31T00:00:00-03:00', 'residualValue': 0.85, 'rent': 110.761341564358, 'amortization': 393.680463673319, 'total': 504.441805237678, 'quantity': 0, 'ticker': None, 'currency': None, 'name': None}, {'cuttingDate': '2038-06-30T00:00:00-03:00', 'residualValue': 0.8, 'rent': 104.245929890565, 'amortization': 393.680463673319, 'total': 497.926393563884, 'quantity': 0, 'ticker': None, 'currency': None, 'name': None}, {'cuttingDate': '2038-12-31T00:00:00-03:00', 'residualValue': 0.75, 'rent': 97.7305182167716, 'amortization': 393.680463673319, 'total': 491.410981890091, 'quantity': 0, 'ticker': None, 'currency': None, 'name': None}, {'cuttingDate': '2039-06-30T00:00:00-03:00', 'residualValue': 0.7, 'rent': 91.2151065429782, 'amortization': 393.680463673319, 'total': 484.895570216297, 'quantity': 0, 'ticker': None, 'currency': None, 'name': None}, {'cuttingDate': '2039-12-31T00:00:00-03:00', 'residualValue': 0.65, 'rent': 84.6996948691847, 'amortization': 393.680463673319, 'total': 478.380158542504, 'quantity': 0, 'ticker': None, 'currency': None, 'name': None}, {'cuttingDate': '2040-06-30T00:00:00-03:00', 'residualValue': 0.6, 'rent': 78.1842831953913, 'amortization': 393.680463673319, 'total': 471.86474686871, 'quantity': 0, 'ticker': None, 'currency': None, 'name': None}, {'cuttingDate': '2040-12-31T00:00:00-03:00', 'residualValue': 0.55, 'rent': 71.6688715215979, 'amortization': 393.680463673319, 'total': 465.349335194917, 'quantity': 0, 'ticker': None, 'currency': None, 'name': None}, {'cuttingDate': '2041-06-30T00:00:00-03:00', 'residualValue': 0.5, 'rent': 65.1534598478044, 'amortization': 393.680463673319, 'total': 458.833923521124, 'quantity': 0, 'ticker': None, 'currency': None, 'name': None}, {'cuttingDate': '2041-12-31T00:00:00-03:00', 'residualValue': 0.45, 'rent': 58.638048174011, 'amortization': 393.680463673319, 'total': 452.31851184733, 'quantity': 0, 'ticker': None, 'currency': None, 'name': None}, {'cuttingDate': '2042-06-30T00:00:00-03:00', 'residualValue': 0.4, 'rent': 52.1226365002176, 'amortization': 393.680463673319, 'total': 445.803100173537, 'quantity': 0, 'ticker': None, 'currency': None, 'name': None}, {'cuttingDate': '2042-12-31T00:00:00-03:00', 'residualValue': 0.35, 'rent': 45.6072248264241, 'amortization': 393.680463673319, 'total': 439.287688499743, 'quantity': 0, 'ticker': None, 'currency': None, 'name': None}, {'cuttingDate': '2043-06-30T00:00:00-03:00', 'residualValue': 0.3, 'rent': 39.0918131526307, 'amortization': 393.680463673319, 'total': 432.77227682595, 'quantity': 0, 'ticker': None, 'currency': None, 'name': None}, {'cuttingDate': '2043-12-31T00:00:00-03:00', 'residualValue': 0.25, 'rent': 32.5764014788373, 'amortization': 393.680463673319, 'total': 426.256865152156, 'quantity': 0, 'ticker': None, 'currency': None, 'name': None}, {'cuttingDate': '2044-06-30T00:00:00-03:00', 'residualValue': 0.2, 'rent': 26.0609898050439, 'amortization': 393.680463673319, 'total': 419.741453478363, 'quantity': 0, 'ticker': None, 'currency': None, 'name': None}, {'cuttingDate': '2044-12-31T00:00:00-03:00', 'residualValue': 0.15, 'rent': 19.5455781312504, 'amortization': 393.680463673319, 'total': 413.22604180457, 'quantity': 0, 'ticker': None, 'currency': None, 'name': None}, {'cuttingDate': '2045-06-30T00:00:00-03:00', 'residualValue': 0.1, 'rent': 13.030166457457, 'amortization': 393.680463673319, 'total': 406.710630130776, 'quantity': 0, 'ticker': None, 'currency': None, 'name': None}, {'cuttingDate': '2045-12-31T00:00:00-03:00', 'residualValue': 0.05, 'rent': 6.51475478366356, 'amortization': 393.680463673319, 'total': 400.195218456983, 'quantity': 0, 'ticker': None, 'currency': None, 'name': None}], 'sensitivity': [{'tir': 0.054976063221693, 'price': 6054.69681751734, 'parity': 0.762436902911336, 'variation': 0.329241891880866}, {'tir': 0.059976063221693, 'price': 5705.62114777549, 'parity': 0.718479594966591, 'variation': 0.252606179533587}, {'tir': 0.064976063221693, 'price': 5383.32529479472, 'parity': 0.677894531936369, 'variation': 0.181849680525735}, {'tir': 0.069976063221693, 'price': 5085.49082921988, 'parity': 0.640389765908094, 'variation': 0.116463409268909}, {'tir': 0.074976063221693, 'price': 4810.01724351886, 'parity': 0.605700790746182, 'variation': 0.0559862225068857}, {'tir': 0.079976063221693, 'price': 4555.00008025952, 'parity': 0.573587787898186, 'variation': 1.76200926673985e-08}, {'tir': 0.084976063221693, 'price': 4318.71138190982, 'parity': 0.543833164538437, 'variation': -0.0518745594050886}, {'tir': 0.089976063221693, 'price': 4099.58220325276, 'parity': 0.51623935144619, 'variation': -0.0999819531827101}, {'tir': 0.094976063221693, 'price': 3896.18695770061, 'parity': 0.490626831817295, 'variation': -0.144635135521271}, {'tir': 0.099976063221693, 'price': 3707.22939531759, 'parity': 0.466832375548541, 'variation': -0.186118683794162}, {'tir': 0.104976063221693, 'price': 3531.53003368007, 'parity': 0.444707456470373, 'variation': -0.224691540355637}], 'tir': 0.079976063221693, 'md': 11.1883059630498, 'interestAccrued': 67.6735480611019, 'parity': 0.573587777791516, 'technicalValue': 79.4124313028096, 'residualValue': 1, 'totalRevenue': 4756.22030492323, 'totalAmortization': 7873.60927346638, 'total': 12629.8295783896, 'currency': 'Peso', 'amountToInvest': 4555, 'amountToReceive': 12629.8295783896, 'quantityTitles': 100, 'currentCoupon': 0.0331, 'title': 'Cuasipar CER + 3,31 (CUAP)', 'abbreviationCurrencyPay': 'Peso', 'abbreviationCurrencyIssuance': 'Peso', 'issuer': 'Argentina', 'issueCurrency': 'Peso', 'amortization': 'En veinte (20) cuotas semestrales iguales el 30-06 y el 30-12 de cada año, comenzando el 30-06-36, los montos de capital en circulación seran ajustados por inflación utilizando el coeficiente de estabilización y referencia (CER).', 'interests': 'Devengan intereses desde el 31.12.03 inclusive hasta pero sin incluir el 31.12.45, a una tasa anual equivalente al 3,31%. Los intereses devengados el o antes del 31.12.13 serán capitalizados, después de esa fecha los pagos de intereses se efectuarán en efectivo. Las fechas de pago de intereses son el 30 de junio y 31 de diciembre de cada año, comenzando el 30.06.14. ', 'issueDate': '31/12/2003', 'expirationDate': '31/12/2045', 'law': 'Ley Argentina', 'minimalSheet': '1', 'isin': 'ARARGE03E139'}\n"
     ]
    }
   ],
   "source": [
    "# Estimate bond\n",
    "print(\"\\nEstimate bond\")\n",
    "estimate = ppi.marketdata.estimate_bonds(EstimateBonds(ticker=\"CUAP\", date=datetime(2023,4,4), \n",
    "quantityType=\"PAPELES\", quantity=100, price=4555))\n",
    "print(estimate)\n"
   ]
  }
 ],
 "metadata": {
  "kernelspec": {
   "display_name": "Python 3 (ipykernel)",
   "language": "python",
   "name": "python3"
  },
  "language_info": {
   "codemirror_mode": {
    "name": "ipython",
    "version": 3
   },
   "file_extension": ".py",
   "mimetype": "text/x-python",
   "name": "python",
   "nbconvert_exporter": "python",
   "pygments_lexer": "ipython3",
   "version": "3.9.12"
  }
 },
 "nbformat": 4,
 "nbformat_minor": 5
}
